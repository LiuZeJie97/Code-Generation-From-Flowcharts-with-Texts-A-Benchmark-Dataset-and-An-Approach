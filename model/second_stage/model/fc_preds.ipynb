{
    "cells": [
        {
            "cell_type": "markdown",
            "source": "### D:\\Learning-to-Generate-Code-from-Flowcharts\\test\\1111. \u6709\u6548\u62ec\u53f7\u7684\u5d4c\u5957\u6df1\u5ea6\\1\\code.txt",
            "metadata": {}
        },
        {
            "cell_type": "markdown",
            "source": "actual: def maxDepthAfterSplit ( self , seq : str ) -> List [ int ] : \n INDENT res = [ ] \n INDENT d = 0 \n INDENT for ch in seq : \n INDENT INDENT if ch == ' ( ' : \n INDENT INDENT INDENT d += 1 \n INDENT INDENT INDENT res . append ( d % 2 ) \n INDENT INDENT elif ch == ' ) ' : \n INDENT INDENT INDENT res . append ( d % 2 ) \n INDENT INDENT INDENT d -= 1 \n INDENT return res \n",
            "metadata": {}
        },
        {
            "cell_type": "markdown",
            "source": "predict: def maxdepthaftersplit ( self , seq : ) -> : \n INDENT res = list ( ) \n INDENT d = 0 \n INDENT for ch , seq in enumerate ( seq ) : \n INDENT INDENT if ch == ' ( ' : \n INDENT INDENT INDENT d += 1 \n INDENT INDENT INDENT res . append ( d % 10 ) \n INDENT INDENT else : \n INDENT INDENT INDENT elif ch == ' D ' : \n INDENT INDENT INDENT INDENT ch . append ( d % 10 ) \n INDENT INDENT INDENT INDENT d -= 1 \n INDENT INDENT INDENT else : \n INDENT return res \n",
            "metadata": {}
        },
        {
            "cell_type": "markdown",
            "source": "### D:\\Learning-to-Generate-Code-from-Flowcharts\\test\\1111. \u6709\u6548\u62ec\u53f7\u7684\u5d4c\u5957\u6df1\u5ea6\\2\\code.txt",
            "metadata": {}
        },
        {
            "cell_type": "markdown",
            "source": "actual: def maxDepthAfterSplit ( self , seq : str ) -> List [ int ] : \n INDENT res = list ( ) \n INDENT for i in range ( len ( seq ) ) : \n INDENT INDENT d = i % 2 \n INDENT INDENT if seq [ i ] == ' ( ' : \n INDENT INDENT INDENT res . append ( d ) \n INDENT INDENT else : \n INDENT INDENT INDENT res . append ( 1 - d ) \n INDENT return res \n",
            "metadata": {}
        },
        {
            "cell_type": "markdown",
            "source": "predict: def maxdepthaftersplit ( self , seq : ) -> : \n INDENT res = list ( ) \n INDENT for i in range ( len ( seq ) ) : \n INDENT INDENT if res [ i ] == ' ( ' : \n INDENT INDENT INDENT ans . append ( d ) \n INDENT INDENT else : \n INDENT INDENT INDENT ans . append ( d - d - d ) \n INDENT return res \n",
            "metadata": {}
        },
        {
            "cell_type": "markdown",
            "source": "### D:\\Learning-to-Generate-Code-from-Flowcharts\\test\\1248. \u7edf\u8ba1\u300c\u4f18\u7f8e\u5b50\u6570\u7ec4\u300d\\1\\code.txt",
            "metadata": {}
        },
        {
            "cell_type": "markdown",
            "source": "actual: def numberOfSubarrays ( self , numbers : List [ int ] , k : int ) -> int : \n INDENT n = len ( numbers ) \n INDENT odd = [ - 1 ] \n INDENT ans = 0 \n INDENT for index in range ( n ) : \n INDENT INDENT if numbers [ index ] % 2 == 1 : \n INDENT INDENT INDENT odd . append ( index ) \n INDENT odd . append ( n ) \n INDENT for index in range ( 1 , len ( odd ) - k ) : \n INDENT INDENT ans += ( odd [ index ] - odd [ index - 1 ] ) * ( odd [ index + k ] - odd [ index + k - 1 ] ) \n INDENT return ans \n",
            "metadata": {}
        },
        {
            "cell_type": "markdown",
            "source": "predict: def numberofsubarrays ( self , numbers : , k ) -> : \n INDENT n = len ( numbers ) \n INDENT odd = - 1 \n INDENT ans = 0 \n INDENT for index in range ( n ) : \n INDENT INDENT elif index == 1 : \n INDENT INDENT INDENT odd . append ( i ) \n INDENT INDENT else : \n INDENT odd . append ( len ( numbers ) ) \n INDENT for index in range ( len ( odd ) - k ) : \n INDENT INDENT ans += ( nums [ index + 1 ] - odd [ index + 1 ] ) * ( index + 1 ) \n INDENT return \u7f8e \n",
            "metadata": {}
        },
        {
            "cell_type": "markdown",
            "source": "### D:\\Learning-to-Generate-Code-from-Flowcharts\\test\\1248. \u7edf\u8ba1\u300c\u4f18\u7f8e\u5b50\u6570\u7ec4\u300d\\2\\code.txt",
            "metadata": {}
        },
        {
            "cell_type": "markdown",
            "source": "actual: def numberOfSubarrays ( self , numbers : List [ int ] , k : int ) -> int : \n INDENT cnt = [ 0 ] * ( len ( numbers ) + 1 ) \n INDENT cnt [ 0 ] = 1 \n INDENT odd = 0 \n INDENT ans = 0 \n INDENT for index in range ( len ( numbers ) ) : \n INDENT INDENT if numbers [ index ] % 2 == 1 : \n INDENT INDENT INDENT odd += 1 \n INDENT INDENT if odd >= k : \n INDENT INDENT INDENT ans += cnt [ odd - k ] \n INDENT INDENT cnt [ odd ] += 1 \n INDENT return ans \n",
            "metadata": {}
        },
        {
            "cell_type": "markdown",
            "source": "predict: def numberofsubarrays ( self , numbers : , k ) -> : \n INDENT cnt = [ 0 ] * ( k + 1 ) \n INDENT cnt [ 0 ] = 1 \n INDENT odd = 0 \n INDENT ans = 0 \n INDENT for index in range ( len ( numbers ) ) : \n INDENT INDENT if numbers [ index ] == 1 : \n INDENT INDENT INDENT odd += 1 \n INDENT INDENT else : \n INDENT INDENT if ans [ index - 1 ] > 0 : \n INDENT INDENT INDENT ans += cnt [ odd - k ] \n INDENT INDENT else : \n INDENT INDENT cnt [ odd ] += 1 \n INDENT return ans \n",
            "metadata": {}
        },
        {
            "cell_type": "markdown",
            "source": "### D:\\Learning-to-Generate-Code-from-Flowcharts\\test\\1249. \u79fb\u9664\u65e0\u6548\u7684\u62ec\u53f7\\1\\code.txt",
            "metadata": {}
        },
        {
            "cell_type": "markdown",
            "source": "actual: def minRemoveToMakeValid ( self , s : str ) -> str : \n INDENT itr = set ( ) \n INDENT stk = [ ] \n INDENT for i in range ( len ( s ) ) : \n INDENT INDENT if s [ i ] != ' ( ' and s [ i ] != ' ) ' : \n INDENT INDENT INDENT continue \n INDENT INDENT if s [ i ] == ' ( ' : \n INDENT INDENT INDENT stk . append ( i ) \n INDENT INDENT elif not stk : \n INDENT INDENT INDENT itr . add ( i ) \n INDENT INDENT else : \n INDENT INDENT INDENT stk . pop ( ) \n INDENT for i in range ( len ( stk ) ) : \n INDENT INDENT itr . add ( stk [ i ] ) \n INDENT builder = [ ] \n INDENT for i in range ( len ( s ) ) : \n INDENT INDENT if i not in itr : \n INDENT INDENT INDENT builder . append ( s [ i ] ) \n INDENT return \" \" . join ( builder ) \n",
            "metadata": {}
        },
        {
            "cell_type": "markdown",
            "source": "predict: def minremovetomakevalid ( self , s : ) -> : \n INDENT itr = list ( ) \n INDENT stk = list ( ) \n INDENT for i in range ( len ( s ) ) : \n INDENT INDENT elif stk and s [ i : i ] != \" ' \" : \n INDENT INDENT else : \n INDENT INDENT INDENT if s [ i ] == ' ( ' : \n INDENT INDENT INDENT INDENT stack . append ( i ) \n INDENT INDENT INDENT else : \n INDENT INDENT INDENT INDENT if i : \n INDENT INDENT INDENT INDENT INDENT s . append ( i ) \n INDENT INDENT INDENT INDENT else : \n INDENT INDENT INDENT INDENT INDENT stack . pop ( ) \n INDENT for i in range ( n ) : \n INDENT INDENT s . append ( s [ i ] ) \n INDENT builder = [ ] \n INDENT for i in range ( len ( s ) ) : \n INDENT INDENT if i in str_4 : \n INDENT INDENT INDENT builder . append ( builder [ i ] ) \n INDENT INDENT else : \n INDENT return ' ' . join ( builder ) \n",
            "metadata": {}
        },
        {
            "cell_type": "markdown",
            "source": "### D:\\Learning-to-Generate-Code-from-Flowcharts\\test\\1249. \u79fb\u9664\u65e0\u6548\u7684\u62ec\u53f7\\2\\code.txt",
            "metadata": {}
        },
        {
            "cell_type": "markdown",
            "source": "actual: def minRemoveToMakeValid ( self , s : str ) -> str : \n INDENT fpc = [ ] \n INDENT bal = 0 \n INDENT op = 0 \n INDENT for i in range ( len ( s ) ) : \n INDENT INDENT if s [ i ] == ' ( ' : \n INDENT INDENT INDENT bal += 1 \n INDENT INDENT INDENT op += 1 \n INDENT INDENT if s [ i ] == ' ) ' : \n INDENT INDENT INDENT if bal == 0 : \n INDENT INDENT INDENT INDENT continue \n INDENT INDENT INDENT bal -= 1 \n INDENT INDENT fpc . append ( s [ i ] ) \n INDENT res = [ ] \n INDENT otk = op - bal \n INDENT for i in range ( len ( fpc ) ) : \n INDENT INDENT if fpc [ i ] == ' ( ' : \n INDENT INDENT INDENT otk -= 1 \n INDENT INDENT INDENT if otk < 0 : \n INDENT INDENT INDENT INDENT continue \n INDENT INDENT res . append ( fpc [ i ] ) \n INDENT return \" \" . join ( res ) \n",
            "metadata": {}
        },
        {
            "cell_type": "markdown",
            "source": "predict: def minremovetomakevalid ( self , s : ) -> : \n INDENT fpc = [ ] \n INDENT bal = 0 \n INDENT op = 0 \n INDENT for i in range ( len ( s ) ) : \n INDENT INDENT if s [ i ] == ' ( ' : \n INDENT INDENT INDENT bal += 1 \n INDENT INDENT INDENT op += 1 \n INDENT INDENT else : \n INDENT INDENT elif s [ i ] == \" ' \" : \n INDENT INDENT INDENT if bal == 0 : \n INDENT INDENT INDENT else : \n INDENT INDENT INDENT INDENT bal -= 1 \n INDENT INDENT else : \n INDENT INDENT fpc . append ( s [ i ] ) \n INDENT res = [ ] \n INDENT otk = op - bal \n INDENT for i in range ( len ( fpc ) ) : \n INDENT INDENT if res [ i ] == ' ( ' : \n INDENT INDENT INDENT otk -= 1 \n INDENT INDENT INDENT if otk < 2 : \n INDENT INDENT INDENT else : \n INDENT INDENT else : \n INDENT INDENT fpc . append ( fpc [ i ] ) \n INDENT return ' ' . join ( res ) \n",
            "metadata": {}
        },
        {
            "cell_type": "markdown",
            "source": "### D:\\Learning-to-Generate-Code-from-Flowcharts\\test\\1295. \u7edf\u8ba1\u4f4d\u6570\u4e3a\u5076\u6570\u7684\u6570\u5b57\\1\\code.txt",
            "metadata": {}
        },
        {
            "cell_type": "markdown",
            "source": "actual: def findNumbers ( self , n : List [ int ] ) -> int : \n INDENT ret = 0 \n INDENT for i in range ( len ( n ) ) : \n INDENT INDENT length = len ( str ( n [ i ] ) ) \n INDENT INDENT if length % 2 == 0 : \n INDENT INDENT INDENT ret += 1 \n INDENT return ret \n",
            "metadata": {}
        },
        {
            "cell_type": "markdown",
            "source": "predict: def findnumbers ( self , n : ) -> : \n INDENT ret = 0 \n INDENT for i in range ( len ( n ) ) : \n INDENT INDENT length = len ( n [ i ] ) \n INDENT INDENT if n == 0 : \n INDENT INDENT INDENT length += 1 \n INDENT INDENT else : \n INDENT return n [ 0 ] \n",
            "metadata": {}
        },
        {
            "cell_type": "markdown",
            "source": "### D:\\Learning-to-Generate-Code-from-Flowcharts\\test\\1316. \u4e0d\u540c\u7684\u5faa\u73af\u5b50\u5b57\u7b26\u4e32\\1\\code.txt",
            "metadata": {}
        },
        {
            "cell_type": "markdown",
            "source": "actual: def distinctEchoSubstrings ( self , text : str ) -> int : \n INDENT n = len ( text ) \n INDENT seen = set ( ) \n INDENT ans = 0 \n INDENT for a in range ( n ) : \n INDENT INDENT for b in range ( a + 1 , n ) : \n INDENT INDENT INDENT if b * 2 - a <= n : \n INDENT INDENT INDENT INDENT if text [ a : b ] in seen : \n INDENT INDENT INDENT INDENT INDENT continue \n INDENT INDENT INDENT INDENT if text [ a : b ] != text [ b : b * 2 - a ] : \n INDENT INDENT INDENT INDENT INDENT continue \n INDENT INDENT INDENT INDENT ans += 1 \n INDENT INDENT INDENT INDENT seen . add ( text [ a : b ] ) \n INDENT return ans \n",
            "metadata": {}
        },
        {
            "cell_type": "markdown",
            "source": "predict: def distinctechosubstrings ( self , text : ) -> : \n INDENT n = len ( text ) \n INDENT seen = list ( ) \n INDENT ans = 0 \n INDENT for a in range ( len ( text ) ) : \n INDENT INDENT for b in range ( len ( S ) ) : \n INDENT INDENT INDENT if b * 2 - 1 + len ( text ) == a : \n INDENT INDENT INDENT INDENT if text [ a ] in seen : \n INDENT INDENT INDENT INDENT else : \n INDENT INDENT INDENT INDENT INDENT if text [ a ] != text [ b - a - 2 ] : \n INDENT INDENT INDENT INDENT INDENT else : \n INDENT INDENT INDENT INDENT INDENT INDENT ans += 1 \n INDENT INDENT INDENT INDENT INDENT INDENT text [ a ] [ b ] \n INDENT INDENT INDENT else : \n INDENT return ans [ seen ] \n",
            "metadata": {}
        },
        {
            "cell_type": "markdown",
            "source": "### D:\\Learning-to-Generate-Code-from-Flowcharts\\test\\132. \u5206\u5272\u56de\u6587\u4e32 II\\1\\code.txt",
            "metadata": {}
        },
        {
            "cell_type": "markdown",
            "source": "actual: def minCut ( self , s : str ) -> int : \n INDENT min_cut = list ( range ( len ( s ) ) ) \n INDENT n = len ( s ) \n INDENT dp = [ [ False ] * n for _ in range ( n ) ] \n INDENT for j in range ( n ) : \n INDENT INDENT for i in range ( j + 1 ) : \n INDENT INDENT INDENT if s [ i ] == s [ j ] and ( j - i < 2 or dp [ i + 1 ] [ j - 1 ] ) : \n INDENT INDENT INDENT INDENT dp [ i ] [ j ] = True \n INDENT INDENT INDENT INDENT if i == 0 : \n INDENT INDENT INDENT INDENT INDENT min_cut [ j ] = 0 \n INDENT INDENT INDENT INDENT else : \n INDENT INDENT INDENT INDENT INDENT min_cut [ j ] = min ( min_cut [ j ] , min_cut [ i - 1 ] + 1 ) \n INDENT return min_cut [ - 1 ] \n",
            "metadata": {}
        },
        {
            "cell_type": "markdown",
            "source": "predict: def mincut ( self , s : ) -> : \n INDENT min_cut = [ ( [ 0 ] * len ( s ) ) for _ in range ( n1 + 1 ) ] \n INDENT n = len ( s ) \n INDENT dp = s [ false ] [ i ] \n INDENT for j in range ( len ( S ) ) : \n INDENT INDENT for i in range ( 1 , j + 1 ) : \n INDENT INDENT INDENT if j < i - 1 and xa0s [ i - 1 ] == i : \n INDENT INDENT INDENT INDENT s [ i ] [ j ] = s [ j ] [ j ] \n INDENT INDENT INDENT INDENT if i == 0 : \n INDENT INDENT INDENT INDENT INDENT xa0s [ 0 ] = 1 \n INDENT INDENT INDENT INDENT else : \n INDENT INDENT INDENT INDENT INDENT j = min ( s [ j + 1 ] , s [ j ] + 1 ) \n INDENT INDENT INDENT else : \n INDENT return i \n",
            "metadata": {}
        },
        {
            "cell_type": "markdown",
            "source": "### D:\\Learning-to-Generate-Code-from-Flowcharts\\test\\1423. \u53ef\u83b7\u5f97\u7684\u6700\u5927\u70b9\u6570\\1\\code.txt",
            "metadata": {}
        },
        {
            "cell_type": "markdown",
            "source": "actual: def maxScore ( self , cardPoints : List [ int ] , k : int ) -> int : \n INDENT n = len ( cardPoints ) \n INDENT windowSize = n - k \n INDENT s = sum ( cardPoints [ 0 : windowSize ] ) \n INDENT minSum = s \n INDENT for i in range ( windowSize , n ) : \n INDENT INDENT s += cardPoints [ i ] - cardPoints [ i - windowSize ] \n INDENT INDENT minSum = min ( minSum , s ) \n INDENT ret = sum ( cardPoints ) - minSum \n INDENT return ret \n",
            "metadata": {}
        },
        {
            "cell_type": "markdown",
            "source": "predict: def maxscore ( self , cardpoints : , k ) -> : \n INDENT n = len ( cardpoints ) \n INDENT \u7a97 , maxVal = len ( cardpoints ) , len ( cardpoints ) \n INDENT s = sum ( cardpoints [ 1 : ] ) \n INDENT minsum = s \n INDENT for i in range ( len ( cardpoints ) ) : \n INDENT INDENT s += i - s \n INDENT INDENT minsum = min ( minsum , s ) \n INDENT ret = min ( minsum ) - min ( minsum , minsum ) \n INDENT return ret \n",
            "metadata": {}
        },
        {
            "cell_type": "markdown",
            "source": "### D:\\Learning-to-Generate-Code-from-Flowcharts\\test\\1508. \u5b50\u6570\u7ec4\u548c\u6392\u5e8f\u540e\u7684\u533a\u95f4\u548c\\1\\code.txt",
            "metadata": {}
        },
        {
            "cell_type": "markdown",
            "source": "actual: def rangeSum ( self , nums : List [ int ] , n : int , left : int , right : int ) -> int : \n INDENT MODULO = 10 * * 9 + 7 \n INDENT sums = list ( ) \n INDENT for i in range ( n ) : \n INDENT INDENT total = 0 \n INDENT INDENT for j in range ( i , n ) : \n INDENT INDENT INDENT total += nums [ j ] \n INDENT INDENT INDENT sums . append ( total ) \n INDENT sums . sort ( ) \n INDENT answer = sum ( sums [ left - 1 : right ] ) \n INDENT answer % = MODULO \n INDENT return answer \n",
            "metadata": {}
        },
        {
            "cell_type": "markdown",
            "source": "predict: def rangesum ( self , nums : , n , left , right ) -> : \n INDENT MOD = 10 * * 9 + 7 \n INDENT sums = [ ] \n INDENT for i in range ( n ) : \n INDENT INDENT total = 0 \n INDENT INDENT for j in range ( n ) : \n INDENT INDENT INDENT total += nums [ n ] \n INDENT INDENT INDENT total . append ( ( total , total ) ) \n INDENT sums = sums . sort ( sums ) \n INDENT answer = sums [ left ] + sums [ left - 2 ] \n INDENT answer % = MOD \n INDENT return answer \n",
            "metadata": {}
        },
        {
            "cell_type": "markdown",
            "source": "### D:\\Learning-to-Generate-Code-from-Flowcharts\\test\\18. \u56db\u6570\u4e4b\u548c\\1\\code.txt",
            "metadata": {}
        },
        {
            "cell_type": "markdown",
            "source": "actual: def fourSum ( self , LIST : List [ int ] , target : int ) -> List [ List [ int ] ] : \n INDENT quadruplets = list ( ) \n INDENT if not LIST or len ( LIST ) < 4 : \n INDENT INDENT return quadruplets \n INDENT LIST . sort ( ) \n INDENT length = len ( LIST ) \n INDENT for i in range ( length - 3 ) : \n INDENT INDENT if i > 0 and LIST [ i ] == LIST [ i - 1 ] : \n INDENT INDENT INDENT continue \n INDENT INDENT if LIST [ i ] + LIST [ i + 1 ] + LIST [ i + 2 ] + LIST [ i + 3 ] > target : \n INDENT INDENT INDENT break \n INDENT INDENT if LIST [ i ] + LIST [ length - 3 ] + LIST [ length - 2 ] + LIST [ length - 1 ] < target : \n INDENT INDENT INDENT continue \n INDENT INDENT for j in range ( i + 1 , length - 2 ) : \n INDENT INDENT INDENT if j > i + 1 and LIST [ j ] == LIST [ j - 1 ] : \n INDENT INDENT INDENT INDENT continue \n INDENT INDENT INDENT if LIST [ i ] + LIST [ j ] + LIST [ j + 1 ] + LIST [ j + 2 ] > target : \n INDENT INDENT INDENT INDENT break \n INDENT INDENT INDENT if LIST [ i ] + LIST [ j ] + LIST [ length - 2 ] + LIST [ length - 1 ] < target : \n INDENT INDENT INDENT INDENT continue \n INDENT INDENT INDENT left , right = j + 1 , length - 1 \n INDENT INDENT INDENT while left < right : \n INDENT INDENT INDENT INDENT total = LIST [ i ] + LIST [ j ] + LIST [ left ] + LIST [ right ] \n INDENT INDENT INDENT INDENT if total == target : \n INDENT INDENT INDENT INDENT INDENT quadruplets . append ( [ LIST [ i ] , LIST [ j ] , LIST [ left ] , LIST [ right ] ] ) \n INDENT INDENT INDENT INDENT INDENT while left < right and LIST [ left ] == LIST [ left + 1 ] : \n INDENT INDENT INDENT INDENT INDENT INDENT left += 1 \n INDENT INDENT INDENT INDENT INDENT left += 1 \n INDENT INDENT INDENT INDENT INDENT while left < right and LIST [ right ] == LIST [ right - 1 ] : \n INDENT INDENT INDENT INDENT INDENT INDENT right -= 1 \n INDENT INDENT INDENT INDENT INDENT right -= 1 \n INDENT INDENT INDENT INDENT elif total < target : \n INDENT INDENT INDENT INDENT INDENT left += 1 \n INDENT INDENT INDENT INDENT else : \n INDENT INDENT INDENT INDENT INDENT right -= 1 \n INDENT return quadruplets \n",
            "metadata": {}
        },
        {
            "cell_type": "markdown",
            "source": "predict: def foursum ( self , list : , target ) -> : \n INDENT quadruplets = { } \n INDENT if not list or quadruplets < 2 : \n INDENT INDENT return [ ] \n INDENT else : \n INDENT INDENT list . sort ( ) \n INDENT INDENT length = len ( list ) \n INDENT INDENT for i in range ( i - 1 ) : \n INDENT INDENT INDENT if i > 1 and list [ i ] == list [ i - 1 - 2 ] : \n INDENT INDENT INDENT else : \n INDENT INDENT INDENT INDENT if list [ i ] + 1 > target : \n INDENT INDENT INDENT INDENT INDENT break \n INDENT INDENT INDENT INDENT if list [ i ] < target : \n INDENT INDENT INDENT INDENT else : \n INDENT INDENT INDENT INDENT INDENT for j in range ( i - 1 ) : \n INDENT INDENT INDENT INDENT INDENT INDENT if list [ j - 1 ] == nums [ j ] and list [ j - 1 ] == list [ j - 1 ] : \n INDENT INDENT INDENT INDENT INDENT INDENT else : \n INDENT INDENT INDENT INDENT INDENT INDENT INDENT if list [ i ] + list [ j + 1 ] > \u4fa7 : \n INDENT INDENT INDENT INDENT INDENT INDENT INDENT INDENT break \n INDENT INDENT INDENT INDENT INDENT INDENT INDENT if list [ j ] < j : \n INDENT INDENT INDENT INDENT INDENT INDENT INDENT else : \n INDENT INDENT INDENT INDENT INDENT INDENT INDENT INDENT left , j = [ 0 ] * ( j + 1 ) , len ( j + 1 ) \n INDENT INDENT INDENT INDENT INDENT INDENT INDENT INDENT while left < right : \n INDENT INDENT INDENT INDENT INDENT INDENT INDENT INDENT INDENT total , right = left [ i ] , total [ right ] + 1 \n INDENT INDENT INDENT INDENT INDENT INDENT INDENT INDENT INDENT if left == target : \n INDENT INDENT INDENT INDENT INDENT INDENT INDENT INDENT INDENT INDENT total = sum ( left ) \n INDENT INDENT INDENT INDENT INDENT INDENT INDENT INDENT INDENT INDENT while \u6307 [ \u4fa7 ] == j [ j ] : \n INDENT INDENT INDENT INDENT INDENT INDENT INDENT INDENT INDENT INDENT INDENT total += 1 \n INDENT INDENT INDENT INDENT INDENT INDENT INDENT INDENT INDENT INDENT total += 1 \n INDENT INDENT INDENT INDENT INDENT INDENT INDENT INDENT INDENT INDENT while \u4fa7 > \u4fa7 and target [ \u4fa7 ] == target [ \u4fa7 ] : \n INDENT INDENT INDENT INDENT INDENT INDENT INDENT INDENT INDENT INDENT INDENT \u4fa7 += 1 \n INDENT INDENT INDENT INDENT INDENT INDENT INDENT INDENT INDENT else : \n INDENT INDENT INDENT INDENT INDENT INDENT INDENT INDENT INDENT INDENT if left < target : \n INDENT INDENT INDENT INDENT INDENT INDENT INDENT INDENT INDENT INDENT else : \n INDENT INDENT return list [ i ] \n",
            "metadata": {}
        },
        {
            "cell_type": "markdown",
            "source": "### D:\\Learning-to-Generate-Code-from-Flowcharts\\test\\229. \u6c42\u4f17\u6570 II\\1\\code.txt",
            "metadata": {}
        },
        {
            "cell_type": "markdown",
            "source": "actual: def majorityElement ( self , numbers : List [ int ] ) -> List [ int ] : \n INDENT ans = [ ] \n INDENT n = len ( numbers ) \n INDENT element1 , element2 = 0 , 0 \n INDENT vote1 , vote2 = 0 , 0 \n INDENT for i in range ( n ) : \n INDENT INDENT if vote1 > 0 and numbers [ i ] == element1 : \n INDENT INDENT INDENT vote1 += 1 \n INDENT INDENT elif vote2 > 0 and numbers [ i ] == element2 : \n INDENT INDENT INDENT vote2 += 1 \n INDENT INDENT elif vote1 == 0 : \n INDENT INDENT INDENT element1 = numbers [ i ] \n INDENT INDENT INDENT vote1 += 1 \n INDENT INDENT elif vote2 == 0 : \n INDENT INDENT INDENT element2 = numbers [ i ] \n INDENT INDENT INDENT vote2 += 1 \n INDENT INDENT else : \n INDENT INDENT INDENT vote1 -= 1 \n INDENT INDENT INDENT vote2 -= 1 \n INDENT cnt1 , cnt2 = 0 , 0 \n INDENT for i in range ( n ) : \n INDENT INDENT if vote1 > 0 and numbers [ i ] == element1 : \n INDENT INDENT INDENT cnt1 += 1 \n INDENT INDENT if vote2 > 0 and numbers [ i ] == element2 : \n INDENT INDENT INDENT cnt2 += 1 \n INDENT if vote1 > 0 and cnt1 > n / 3 : \n INDENT INDENT ans . append ( element1 ) \n INDENT if vote2 > 0 and cnt2 > n / 3 : \n INDENT INDENT ans . append ( element2 ) \n INDENT return ans \n",
            "metadata": {}
        },
        {
            "cell_type": "markdown",
            "source": "predict: def majorityelement ( self , numbers : ) -> : \n INDENT ans = [ ] \n INDENT n = len ( numbers ) \n INDENT element1 , element2 = 0 , 1 \n INDENT vote1 = 0 \n INDENT for i in range ( len ( numbers ) ) : \n INDENT INDENT if vote1 > 1 and numbers [ i ] == numbers [ 0 ] : \n INDENT INDENT INDENT vote1 += 1 \n INDENT INDENT else : \n INDENT INDENT INDENT if vote2 > 1 and numbers [ i ] == numbers [ i ] [ i ] : \n INDENT INDENT INDENT INDENT vote2 += 1 \n INDENT INDENT INDENT else : \n INDENT INDENT INDENT INDENT if vote1 == 0 : \n INDENT INDENT INDENT INDENT INDENT vote2 [ 0 ] = numbers [ i ] \n INDENT INDENT INDENT INDENT INDENT vote1 += 1 \n INDENT INDENT INDENT INDENT else : \n INDENT INDENT INDENT INDENT INDENT if vote2 == 0 : \n INDENT INDENT INDENT INDENT INDENT INDENT dp [ i ] = vote1 [ i ] \n INDENT INDENT INDENT INDENT INDENT INDENT vote2 += 1 \n INDENT INDENT INDENT INDENT INDENT else : \n INDENT INDENT INDENT INDENT INDENT INDENT vote1 -= 1 \n INDENT INDENT INDENT INDENT INDENT INDENT vote2 -= 1 \n INDENT cnt1 = 0 \n INDENT for i in range ( len ( numbers ) ) : \n INDENT INDENT if vote1 > 1 and numbers [ i ] == numbers [ 0 ] : \n INDENT INDENT INDENT cnt1 += 1 \n INDENT INDENT else : \n INDENT INDENT if vote2 > 1 and numbers [ 1 ] == numbers [ 0 ] [ 1 ] : \n INDENT INDENT INDENT cnt2 += 1 \n INDENT INDENT else : \n INDENT if vote1 > 1 and cnt1 > 2 / n : \n INDENT INDENT numbers . append ( numbers [ 0 ] ) \n INDENT else : \n INDENT if vote2 > 1 and cnt2 > 2 / n : \n INDENT INDENT numbers . append ( numbers [ i ] ) \n INDENT else : \n INDENT return vote1 \n",
            "metadata": {}
        },
        {
            "cell_type": "markdown",
            "source": "### D:\\Learning-to-Generate-Code-from-Flowcharts\\test\\239. \u6ed1\u52a8\u7a97\u53e3\u6700\u5927\u503c\\1\\code.txt",
            "metadata": {}
        },
        {
            "cell_type": "markdown",
            "source": "actual: def maxSlidingWindow ( self , N : List [ int ] , k : int ) -> List [ int ] : \n INDENT n = len ( N ) \n INDENT Q = collections . deque ( ) \n INDENT for i in range ( k ) : \n INDENT INDENT while Q and N [ i ] >= N [ Q [ - 1 ] ] : \n INDENT INDENT INDENT Q . pop ( ) \n INDENT INDENT Q . append ( i ) \n INDENT ans = [ ] \n INDENT ans . append ( N [ Q [ 0 ] ] ) \n INDENT for i in range ( k , n ) : \n INDENT INDENT while Q and N [ i ] >= N [ Q [ - 1 ] ] : \n INDENT INDENT INDENT Q . pop ( ) \n INDENT INDENT Q . append ( i ) \n INDENT INDENT while Q [ 0 ] <= i - k : \n INDENT INDENT INDENT Q . popleft ( ) \n INDENT INDENT ans . append ( N [ Q [ 0 ] ] ) \n INDENT return ans \n",
            "metadata": {}
        },
        {
            "cell_type": "markdown",
            "source": "predict: def maxslidingwindow ( self , n : , k ) -> : \n INDENT n = len ( n ) \n INDENT q = collections . deque ( ) \n INDENT for i in range ( n ) : \n INDENT INDENT while q and P [ i ] >= n [ i ] : \n INDENT INDENT INDENT q . pop ( ) \n INDENT INDENT stack . append ( i ) \n INDENT ans = max ( \u6ed1 ) \n INDENT n . append ( i ) \n INDENT for i in range ( len ( n ) ) : \n INDENT INDENT while ans and P [ i ] >= n [ i ] : \n INDENT INDENT INDENT ans . pop ( ) \n INDENT INDENT stack . append ( i ) \n INDENT INDENT while i < - k : \n INDENT INDENT INDENT n . popleft ( ) \n INDENT INDENT ans . append ( n [ k ] ) \n INDENT return max ( \u7a97 ) \n",
            "metadata": {}
        },
        {
            "cell_type": "markdown",
            "source": "### D:\\Learning-to-Generate-Code-from-Flowcharts\\test\\268. \u4e22\u5931\u7684\u6570\u5b57\\1\\code.txt",
            "metadata": {}
        },
        {
            "cell_type": "markdown",
            "source": "actual: def missingNumber ( self , a : List [ int ] ) -> int : \n INDENT a . sort ( ) \n INDENT s = False \n INDENT for k in range ( len ( a ) ) : \n INDENT INDENT if k != a [ k ] : \n INDENT INDENT INDENT s = True \n INDENT INDENT INDENT break \n INDENT return i if s else len ( a ) \n",
            "metadata": {}
        },
        {
            "cell_type": "markdown",
            "source": "predict: def missingnumber ( self , a : ) -> : \n INDENT a . sort ( ) \n INDENT s = False \n INDENT for k in range ( len ( a ) ) : \n INDENT INDENT if a [ k ] != a [ k ] : \n INDENT INDENT INDENT sgn = True \n INDENT INDENT INDENT break \n INDENT return True \n",
            "metadata": {}
        },
        {
            "cell_type": "markdown",
            "source": "### D:\\Learning-to-Generate-Code-from-Flowcharts\\test\\268. \u4e22\u5931\u7684\u6570\u5b57\\2\\code.txt",
            "metadata": {}
        },
        {
            "cell_type": "markdown",
            "source": "actual: def missingNumber ( self , a : List [ int ] ) -> int : \n INDENT s = set ( a ) \n INDENT for k in range ( len ( a ) + 1 ) : \n INDENT INDENT if k not in s : \n INDENT INDENT INDENT return k \n",
            "metadata": {}
        },
        {
            "cell_type": "markdown",
            "source": "predict: def missingnumber ( self , a : ) -> : \n INDENT s = set ( a ) \n INDENT k = 0 \n INDENT while true : \n INDENT INDENT elif k < n + 1 : \n INDENT INDENT if k in str_4 : \n INDENT INDENT INDENT break \n INDENT return k \n",
            "metadata": {}
        },
        {
            "cell_type": "markdown",
            "source": "### D:\\Learning-to-Generate-Code-from-Flowcharts\\test\\268. \u4e22\u5931\u7684\u6570\u5b57\\3\\code.txt",
            "metadata": {}
        },
        {
            "cell_type": "markdown",
            "source": "actual: def missingNumber ( self , a : List [ int ] ) -> int : \n INDENT l = len ( a ) \n INDENT xor = 0 \n INDENT for k in range ( l ) : \n INDENT INDENT xor = xor ^ k ^ a [ k ] \n INDENT return xor ^ l \n",
            "metadata": {}
        },
        {
            "cell_type": "markdown",
            "source": "predict: def missingnumber ( self , a : ) -> : \n INDENT l = len ( a ) \n INDENT xor = 0 \n INDENT for k in range ( len ( a ) ) : \n INDENT INDENT xor = k ^ l \n INDENT return s . append ( xor ^ xor ) \n",
            "metadata": {}
        },
        {
            "cell_type": "markdown",
            "source": "### D:\\Learning-to-Generate-Code-from-Flowcharts\\test\\3. \u65e0\u91cd\u590d\u5b57\u7b26\u7684\u6700\u957f\u5b50\u4e32\\1\\code.txt",
            "metadata": {}
        },
        {
            "cell_type": "markdown",
            "source": "actual: def lengthOfLongestSubstring ( self , s : str ) -> int : \n INDENT occ = set ( ) \n INDENT size = len ( s ) \n INDENT rk , ans = - 1 , 0 \n INDENT for lk in range ( size ) : \n INDENT INDENT if lk != 0 : \n INDENT INDENT INDENT occ . remove ( s [ lk - 1 ] ) \n INDENT INDENT while rk + 1 < size and s [ rk + 1 ] not in occ : \n INDENT INDENT INDENT occ . add ( s [ rk + 1 ] ) \n INDENT INDENT INDENT rk += 1 \n INDENT INDENT ans = max ( ans , rk - lk + 1 ) \n INDENT return ans \n",
            "metadata": {}
        },
        {
            "cell_type": "markdown",
            "source": "predict: def lengthoflongestsubstring ( self , s : ) -> : \n INDENT occ = list ( ) \n INDENT size = len ( s ) \n INDENT rk , ans = 0 , len ( s ) \n INDENT for lk in range ( size ) : \n INDENT INDENT if lk : \n INDENT INDENT INDENT s [ lk - 1 ] . popleft ( ) \n INDENT INDENT INDENT while rk + 1 == n and rk [ rk ] [ lk ] in occ : \n INDENT INDENT INDENT INDENT s . append ( lk ) \n INDENT INDENT INDENT INDENT rk -= 1 \n INDENT INDENT INDENT dp [ lk ] = max ( dis [ rp ] , len ( T ) ) \n INDENT INDENT else : \n INDENT return len ( A ) \n",
            "metadata": {}
        },
        {
            "cell_type": "markdown",
            "source": "### D:\\Learning-to-Generate-Code-from-Flowcharts\\test\\32. \u6700\u957f\u6709\u6548\u62ec\u53f7\\1\\code.txt",
            "metadata": {}
        },
        {
            "cell_type": "markdown",
            "source": "actual: def longestValidParentheses ( self , s : str ) -> int : \n INDENT res = [ ] \n INDENT stack = [ ] \n INDENT for index in range ( len ( s ) ) : \n INDENT INDENT if ( stack and s [ index ] == \" ) \" ) : \n INDENT INDENT INDENT res . append ( stack . pop ( ) ) \n INDENT INDENT INDENT res . append ( index ) \n INDENT INDENT if ( s [ index ] == \" ( \" ) : \n INDENT INDENT INDENT stack . append ( index ) \n INDENT res . sort ( ) \n INDENT max_len = 0 \n INDENT index = 0 \n INDENT while ( index < len ( res ) - 1 ) : \n INDENT INDENT tmp = index \n INDENT INDENT while ( index < len ( res ) - 1 and res [ index + 1 ] - res [ index ] == 1 ) : \n INDENT INDENT INDENT index += 1 \n INDENT INDENT max_len = max ( max_len , index - tmp + 1 ) \n INDENT INDENT index += 1 \n INDENT return max_len \n",
            "metadata": {}
        },
        {
            "cell_type": "markdown",
            "source": "predict: def longestvalidparentheses ( self , s : ) -> : \n INDENT res = [ ] \n INDENT for stack in range ( s + 2 ) : \n INDENT INDENT if res and res [ i ] == \u62ec : \n INDENT INDENT INDENT c = res \n INDENT INDENT INDENT ans = False \n INDENT INDENT else : \n INDENT INDENT if res [ i ] == \u62ec : \n INDENT INDENT INDENT st . append ( index ) \n INDENT INDENT else : \n INDENT res += s \n INDENT max_len = 0 \n INDENT for index in range ( 1 , index - 1 ) : \n INDENT INDENT while index - 1 == 0 : \n INDENT INDENT dp [ index - 1 ] [ index ] = min ( dp [ index - 1 ] [ index ] , dp [ index ] [ index ] + dp [ index ] [ index ] ) \n INDENT return max_len [ index ] \n",
            "metadata": {}
        },
        {
            "cell_type": "markdown",
            "source": "### D:\\Learning-to-Generate-Code-from-Flowcharts\\test\\33. \u641c\u7d22\u65cb\u8f6c\u6392\u5e8f\u6570\u7ec4\\1\\code.txt",
            "metadata": {}
        },
        {
            "cell_type": "markdown",
            "source": "actual: def search ( self , n : List [ int ] , target : int ) -> int : \n INDENT if not n : \n INDENT INDENT return - 1 \n INDENT l , r = 0 , len ( n ) - 1 \n INDENT while l <= r : \n INDENT INDENT m = ( l + r ) / / 2 \n INDENT INDENT if n [ m ] == target : \n INDENT INDENT INDENT return m \n INDENT INDENT if n [ 0 ] <= n [ m ] : \n INDENT INDENT INDENT if n [ 0 ] <= target < n [ m ] : \n INDENT INDENT INDENT INDENT r = m - 1 \n INDENT INDENT INDENT else : \n INDENT INDENT INDENT INDENT l = m + 1 \n INDENT INDENT else : \n INDENT INDENT INDENT if n [ m ] < target <= n [ - 1 ] : \n INDENT INDENT INDENT INDENT l = m + 1 \n INDENT INDENT INDENT else : \n INDENT INDENT INDENT INDENT r = m - 1 \n INDENT return - 1 \n",
            "metadata": {}
        },
        {
            "cell_type": "markdown",
            "source": "predict: def search ( self , n : , target ) -> : \n INDENT if not n : \n INDENT INDENT return - 1 \n INDENT else : \n INDENT INDENT l , r = 0 , r - 1 \n INDENT INDENT while l <= r : \n INDENT INDENT INDENT m = ( l + r ) / / 2 \n INDENT INDENT INDENT if n == target : \n INDENT INDENT INDENT INDENT return n \n INDENT INDENT INDENT if n [ 0 ] <= n [ target ] : \n INDENT INDENT INDENT INDENT if target >= 1 and n [ 0 ] < n [ target ] : \n INDENT INDENT INDENT INDENT INDENT r = m - 1 \n INDENT INDENT INDENT INDENT else : \n INDENT INDENT INDENT INDENT INDENT l = m + 1 \n INDENT INDENT INDENT else : \n INDENT INDENT INDENT INDENT if n [ target ] <= target and t <= n [ - 1 ] : \n INDENT INDENT INDENT INDENT INDENT l = m + 1 \n INDENT INDENT INDENT INDENT else : \n INDENT INDENT INDENT INDENT INDENT r = m - 1 \n INDENT INDENT return - 1 \n",
            "metadata": {}
        },
        {
            "cell_type": "markdown",
            "source": "### D:\\Learning-to-Generate-Code-from-Flowcharts\\test\\338. \u6bd4\u7279\u4f4d\u8ba1\u6570\\1\\code.txt",
            "metadata": {}
        },
        {
            "cell_type": "markdown",
            "source": "actual: def countBits ( self , num : int ) -> List [ int ] : \n INDENT dp = [ 0 ] * ( num + 1 ) \n INDENT for i in range ( 1 , num + 1 ) : \n INDENT INDENT if ( i % 2 == 1 ) : \n INDENT INDENT INDENT dp [ i ] = dp [ i - 1 ] + 1 \n INDENT INDENT else : \n INDENT INDENT INDENT dp [ i ] = dp [ i / / 2 ] \n INDENT return dp \n",
            "metadata": {}
        },
        {
            "cell_type": "markdown",
            "source": "predict: def countbits ( self , num : ) -> : \n INDENT dp = [ 0 ] * ( num + 1 ) \n INDENT for i in range ( 2 , \u542b + 1 ) : \n INDENT INDENT if i % 2 == 1 : \n INDENT INDENT INDENT i = dp [ 0 ] + 1 \n INDENT INDENT else : \n INDENT INDENT INDENT \u5236 [ i ] = dp [ i ] % 2 \n INDENT return num \n",
            "metadata": {}
        },
        {
            "cell_type": "markdown",
            "source": "### D:\\Learning-to-Generate-Code-from-Flowcharts\\test\\338. \u6bd4\u7279\u4f4d\u8ba1\u6570\\2\\code.txt",
            "metadata": {}
        },
        {
            "cell_type": "markdown",
            "source": "actual: def countBits ( self , n : int ) -> List [ int ] : \n INDENT bits = [ 0 ] \n INDENT highBit = 0 \n INDENT for i in range ( 1 , n + 1 ) : \n INDENT INDENT if i & ( i - 1 ) == 0 : \n INDENT INDENT INDENT highBit = i \n INDENT INDENT bits . append ( bits [ i - highBit ] + 1 ) \n INDENT return bits \n",
            "metadata": {}
        },
        {
            "cell_type": "markdown",
            "source": "predict: def countbits ( self , n : ) -> : \n INDENT bits = [ 0 ] \n INDENT highbit = 0 \n INDENT for i in range ( n + 1 ) : \n INDENT INDENT if i - 1 == 0 : \n INDENT INDENT INDENT L = highbit \n INDENT INDENT else : \n INDENT INDENT \u7279 = 1 \n INDENT return bits \n",
            "metadata": {}
        },
        {
            "cell_type": "markdown",
            "source": "### D:\\Learning-to-Generate-Code-from-Flowcharts\\test\\5. \u6700\u957f\u56de\u6587\u5b50\u4e32\\1\\code.txt",
            "metadata": {}
        },
        {
            "cell_type": "markdown",
            "source": "actual: def longestPalindrome ( self , s : str ) -> str : \n INDENT if ( not s or len ( s ) == 1 ) : \n INDENT INDENT return s \n INDENT n = len ( s ) \n INDENT dp = [ [ False ] * n for _ in range ( n ) ] \n INDENT start = 0 \n INDENT max_len = 1 \n INDENT for i in range ( n ) : \n INDENT INDENT dp [ i ] [ i ] = True \n INDENT INDENT if ( i < n - 1 and s [ i ] == s [ i + 1 ] ) : \n INDENT INDENT INDENT dp [ i ] [ i + 1 ] = True \n INDENT INDENT INDENT start = i \n INDENT INDENT INDENT max_len = 2 \n INDENT for l in range ( 3 , n + 1 ) : \n INDENT INDENT for i in range ( n + 1 - l ) : \n INDENT INDENT INDENT r = i + l - 1 \n INDENT INDENT INDENT if ( s [ i ] == s [ r ] and dp [ i + 1 ] [ r - 1 ] ) : \n INDENT INDENT INDENT INDENT dp [ i ] [ r ] = True \n INDENT INDENT INDENT INDENT start = i \n INDENT INDENT INDENT INDENT max_len = l \n INDENT return s [ start : start + max_len ] \n",
            "metadata": {}
        },
        {
            "cell_type": "markdown",
            "source": "predict: def longestpalindrome ( self , s : ) -> : \n INDENT if \u7279 == 0 and \u6216 != 0 : \n INDENT INDENT return s \n INDENT else : \n INDENT INDENT n = len ( s ) \n INDENT INDENT dp = [ [ False ] for _ in range ( \u7279 ) ] \n INDENT INDENT start , start = 0 , 1 , 0 \n INDENT INDENT for i in range ( n - 1 , - 1 , - 1 ) : \n INDENT INDENT INDENT st [ i ] = i \n INDENT INDENT INDENT if i < len ( dp ) : \n INDENT INDENT INDENT INDENT s [ i ] [ i ] = s [ i + 1 ] \n INDENT INDENT INDENT INDENT i , i = i [ 0 ] , 0 \n INDENT INDENT INDENT else : \n INDENT INDENT while start < n + 1 : \n INDENT INDENT INDENT i = 0 \n INDENT INDENT INDENT for i in range ( len ( S ) - 1 , n + 1 ) : \n INDENT INDENT INDENT INDENT r = len ( s ) - 1 \n INDENT INDENT INDENT INDENT if s [ r ] == t and s [ r - 1 ] == r : \n INDENT INDENT INDENT INDENT INDENT s [ \u4e5f ] = n \n INDENT INDENT INDENT INDENT else : \n INDENT INDENT INDENT INDENT \u4e5f += r \n INDENT INDENT return i [ i ] \n",
            "metadata": {}
        },
        {
            "cell_type": "markdown",
            "source": "### D:\\Learning-to-Generate-Code-from-Flowcharts\\test\\5. \u6700\u957f\u56de\u6587\u5b50\u4e32\\2\\code.txt",
            "metadata": {}
        },
        {
            "cell_type": "markdown",
            "source": "actual: def longestPalindrome ( self , s : str ) -> str : \n INDENT n = len ( s ) \n INDENT if n < 2 : \n INDENT INDENT return s \n INDENT max_len = 1 \n INDENT begin = 0 \n INDENT dp = [ [ False ] * n for _ in range ( n ) ] \n INDENT for i in range ( n ) : \n INDENT INDENT dp [ i ] [ i ] = True \n INDENT for L in range ( 2 , n + 1 ) : \n INDENT INDENT for i in range ( n ) : \n INDENT INDENT INDENT j = L + i - 1 \n INDENT INDENT INDENT if j >= n : \n INDENT INDENT INDENT INDENT break \n INDENT INDENT INDENT if s [ i ] != s [ j ] : \n INDENT INDENT INDENT INDENT dp [ i ] [ j ] = False \n INDENT INDENT INDENT else : \n INDENT INDENT INDENT INDENT if j - i < 3 : \n INDENT INDENT INDENT INDENT INDENT dp [ i ] [ j ] = True \n INDENT INDENT INDENT INDENT else : \n INDENT INDENT INDENT INDENT INDENT dp [ i ] [ j ] = dp [ i + 1 ] [ j - 1 ] \n INDENT INDENT INDENT if dp [ i ] [ j ] and j - i + 1 > max_len : \n INDENT INDENT INDENT INDENT max_len = j - i + 1 \n INDENT INDENT INDENT INDENT begin = i \n INDENT return s [ begin : begin + max_len ] \n",
            "metadata": {}
        },
        {
            "cell_type": "markdown",
            "source": "predict: def longestpalindrome ( self , s : ) -> : \n INDENT n = len ( s ) \n INDENT if n < 2 : \n INDENT INDENT return s \n INDENT else : \n INDENT INDENT max_len = 0 \n INDENT INDENT \u957f [ begin , 1 ] , = 0 \n INDENT INDENT dp = [ [ False ] for _ in range ( n ) ] \n INDENT INDENT for i in range ( i - 2 , - 1 , - 1 ) : \n INDENT INDENT INDENT falsedp [ i ] = falsedp [ j ] \n INDENT INDENT for i in range ( 1 , \u5bbd + 1 ) : \n INDENT INDENT INDENT i = 0 \n INDENT INDENT INDENT while i < l : \n INDENT INDENT INDENT INDENT j , j = i , l - 1 - 2 \n INDENT INDENT INDENT INDENT if j != j : \n INDENT INDENT INDENT INDENT INDENT break \n INDENT INDENT INDENT INDENT if i [ i ] != t and \u4e32 [ i ] != \u4e32 [ j ] : \n INDENT INDENT INDENT INDENT INDENT G [ j ] = c \n INDENT INDENT INDENT INDENT else : \n INDENT INDENT INDENT INDENT INDENT elif j < 0 : \n INDENT INDENT INDENT INDENT INDENT INDENT j [ j ] = j \n INDENT INDENT INDENT INDENT INDENT else : \n INDENT INDENT INDENT INDENT INDENT INDENT j = j + 1 + j [ j + 1 ] \n INDENT INDENT INDENT INDENT if j != length - 1 and j + j + 1 > n : \n INDENT INDENT INDENT INDENT INDENT \u51b3 = \u754c + ( \u8d8a + 1 ) \n INDENT INDENT INDENT INDENT INDENT G [ i ] = i \n INDENT INDENT INDENT INDENT else : \n INDENT INDENT return i [ l ] \n",
            "metadata": {}
        },
        {
            "cell_type": "markdown",
            "source": "### D:\\Learning-to-Generate-Code-from-Flowcharts\\test\\547. \u7701\u4efd\u6570\u91cf\\1\\code.txt",
            "metadata": {}
        },
        {
            "cell_type": "markdown",
            "source": "actual: def findCircleNum ( self , isConnected : List [ List [ int ] ] ) -> int : \n INDENT cities = len ( isConnected ) \n INDENT visited = set ( ) \n INDENT provinces = 0 \n INDENT for i in range ( cities ) : \n INDENT INDENT if i not in visited : \n INDENT INDENT INDENT Q = collections . deque ( [ i ] ) \n INDENT INDENT INDENT while Q : \n INDENT INDENT INDENT INDENT j = Q . popleft ( ) \n INDENT INDENT INDENT INDENT visited . add ( j ) \n INDENT INDENT INDENT INDENT for k in range ( cities ) : \n INDENT INDENT INDENT INDENT INDENT if isConnected [ j ] [ k ] == 1 and k not in visited : \n INDENT INDENT INDENT INDENT INDENT INDENT Q . append ( k ) \n INDENT INDENT INDENT provinces += 1 \n INDENT return provinces \n",
            "metadata": {}
        },
        {
            "cell_type": "markdown",
            "source": "predict: def findcirclenum ( self , isconnected : ) -> : \n INDENT cities = len ( isconnected ) \n INDENT visited = list ( ) \n INDENT provinces = 0 \n INDENT while \u4efd < \u4efd : \n INDENT INDENT if \u4efd in q : \n INDENT INDENT INDENT q = collections . deque ( [ i ] ) \n INDENT INDENT INDENT while q : \n INDENT INDENT INDENT INDENT j = q . popleft ( ) \n INDENT INDENT INDENT INDENT s . append ( j ) \n INDENT INDENT INDENT INDENT for k in range ( len ( isconnected ) ) : \n INDENT INDENT INDENT INDENT INDENT if isconnected [ k ] != 1 and isconnected [ k ] != len ( isconnected [ 0 ] ) : \n INDENT INDENT INDENT INDENT INDENT INDENT queMax . append ( k ) \n INDENT INDENT INDENT INDENT INDENT else : \n INDENT INDENT INDENT \u7701 += 1 \n INDENT INDENT else : \n INDENT INDENT \u7701 += 1 \n INDENT return \u4efd \n",
            "metadata": {}
        },
        {
            "cell_type": "markdown",
            "source": "### D:\\Learning-to-Generate-Code-from-Flowcharts\\test\\55. \u8df3\u8dc3\u6e38\u620f\\1\\code.txt",
            "metadata": {}
        },
        {
            "cell_type": "markdown",
            "source": "actual: def canJump ( self , array : List [ int ] ) -> bool : \n INDENT length , rightmost = len ( array ) , 0 \n INDENT arrive = False \n INDENT for i in range ( length ) : \n INDENT INDENT if i <= rightmost : \n INDENT INDENT INDENT rightmost = max ( rightmost , i + array [ i ] ) \n INDENT INDENT INDENT if rightmost >= length - 1 : \n INDENT INDENT INDENT INDENT arrive = True \n INDENT INDENT INDENT INDENT break \n INDENT return arrive \n",
            "metadata": {}
        },
        {
            "cell_type": "markdown",
            "source": "predict: def canjump ( self , array : ) -> : \n INDENT length = [ ( 1 ) for len in array ] \n INDENT arrive = True \n INDENT for i in range ( length ) : \n INDENT INDENT if i <= length : \n INDENT INDENT INDENT f [ i ] [ i ] = min ( f [ i ] , nums [ i ] + array [ i ] ) \n INDENT INDENT INDENT if array [ i ] >= i : \n INDENT INDENT INDENT INDENT rightmost = rightmost \n INDENT INDENT INDENT INDENT break \n INDENT INDENT else : \n INDENT return arrive \n",
            "metadata": {}
        },
        {
            "cell_type": "markdown",
            "source": "### D:\\Learning-to-Generate-Code-from-Flowcharts\\test\\581. \u6700\u77ed\u65e0\u5e8f\u8fde\u7eed\u5b50\u6570\u7ec4\\1\\code.txt",
            "metadata": {}
        },
        {
            "cell_type": "markdown",
            "source": "actual: def findUnsortedSubarray ( self , nums : List [ int ] ) -> int : \n INDENT n = len ( nums ) \n INDENT right = 0 \n INDENT max_num = nums [ 0 ] \n INDENT for i in range ( n ) : \n INDENT INDENT if ( nums [ i ] >= max_num ) : \n INDENT INDENT INDENT max_num = nums [ i ] \n INDENT INDENT else : \n INDENT INDENT INDENT right = i \n INDENT left = n \n INDENT min_num = nums [ - 1 ] \n INDENT for i in range ( n - 1 , - 1 , - 1 ) : \n INDENT INDENT if ( nums [ i ] <= min_num ) : \n INDENT INDENT INDENT min_num = nums [ i ] \n INDENT INDENT else : \n INDENT INDENT INDENT left = i \n INDENT return right - left + 1 if ( right - left + 1 > 0 ) else 0 \n",
            "metadata": {}
        },
        {
            "cell_type": "markdown",
            "source": "predict: def findunsortedsubarray ( self , nums : ) -> : \n INDENT n = len ( nums ) \n INDENT right = 0 \n INDENT max_num , nums = nums [ 0 ] , nums [ 0 ] , nums [ 1 ] \n INDENT for i in range ( n ) : \n INDENT INDENT if i [ i ] > n and i > i : \n INDENT INDENT INDENT maxStack = i [ i ] \n INDENT INDENT else : \n INDENT INDENT INDENT i = i \n INDENT left = list ( ) \n INDENT min_num = max ( i , \u540e [ - 1 ] ) \n INDENT for i in range ( i ) : \n INDENT INDENT if left [ i ] <= num : \n INDENT INDENT INDENT min_num [ i ] = i [ i ] \n INDENT INDENT else : \n INDENT INDENT INDENT i = i \n INDENT return X if i - left + 1 != 2 - 2 else 0 \n",
            "metadata": {}
        },
        {
            "cell_type": "markdown",
            "source": "### D:\\Learning-to-Generate-Code-from-Flowcharts\\test\\581. \u6700\u77ed\u65e0\u5e8f\u8fde\u7eed\u5b50\u6570\u7ec4\\2\\code.txt",
            "metadata": {}
        },
        {
            "cell_type": "markdown",
            "source": "actual: def findUnsortedSubarray ( self , nums : List [ int ] ) -> int : \n INDENT nums_copy = nums [ : ] \n INDENT nums_copy . sort ( ) \n INDENT left = float ( \" inf \" ) \n INDENT right = 0 \n INDENT for i in range ( len ( nums ) ) : \n INDENT INDENT if ( nums_copy [ i ] != nums [ i ] ) : \n INDENT INDENT INDENT left = min ( left , i ) \n INDENT INDENT INDENT right = max ( right , i ) \n INDENT return right - left + 1 if ( right - left + 1 > 0 ) else 0 \n",
            "metadata": {}
        },
        {
            "cell_type": "markdown",
            "source": "predict: def findunsortedsubarray ( self , nums : ) -> : \n INDENT \u539f = list ( nums ) \n INDENT nums_copy = max ( nums ) \n INDENT left , \u7a77 = nums , \u7a77 \n INDENT right , left = 0 , 0 \n INDENT for i in range ( \u7a77 ) : \n INDENT INDENT if count [ i ] != \u5927 [ i ] : \n INDENT INDENT INDENT i = min ( i , i ) \n INDENT INDENT INDENT high = max ( i , i ) \n INDENT INDENT else : \n INDENT return X if i - i + 1 != 2 - 2 else 0 \n",
            "metadata": {}
        },
        {
            "cell_type": "markdown",
            "source": "### D:\\Learning-to-Generate-Code-from-Flowcharts\\test\\581. \u6700\u77ed\u65e0\u5e8f\u8fde\u7eed\u5b50\u6570\u7ec4\\3\\code.txt",
            "metadata": {}
        },
        {
            "cell_type": "markdown",
            "source": "actual: def findUnsortedSubarray ( self , nums : List [ int ] ) -> int : \n INDENT n = len ( nums ) \n INDENT maxn = float ( \" - inf \" ) \n INDENT right = - 1 \n INDENT minn = float ( \" inf \" ) \n INDENT left = - 1 \n INDENT for i in range ( n ) : \n INDENT INDENT if maxn > nums [ i ] : \n INDENT INDENT INDENT right = i \n INDENT INDENT else : \n INDENT INDENT INDENT maxn = nums [ i ] \n INDENT INDENT if minn < nums [ n - i - 1 ] : \n INDENT INDENT INDENT left = n - i - 1 \n INDENT INDENT else : \n INDENT INDENT INDENT minn = nums [ n - i - 1 ] \n INDENT return 0 if right == - 1 else right - left + 1 \n",
            "metadata": {}
        },
        {
            "cell_type": "markdown",
            "source": "predict: def findunsortedsubarray ( self , nums : ) -> : \n INDENT n = len ( nums ) \n INDENT maxn = [ - 1 ] * ( n + 1 ) \n INDENT maxn = [ - 1 ] * n \n INDENT for i in range ( n ) : \n INDENT INDENT if right > right [ i ] : \n INDENT INDENT INDENT high = i \n INDENT INDENT else : \n INDENT INDENT INDENT right = \u957f [ i ] \n INDENT INDENT if i < i [ n - i - 1 ] : \n INDENT INDENT INDENT i = n - 1 \n INDENT INDENT else : \n INDENT INDENT INDENT i = i [ n ] - i [ n - 2 ] \n INDENT return right if n == target - 1 else 1 \n",
            "metadata": {}
        },
        {
            "cell_type": "markdown",
            "source": "### D:\\Learning-to-Generate-Code-from-Flowcharts\\test\\581. \u6700\u77ed\u65e0\u5e8f\u8fde\u7eed\u5b50\u6570\u7ec4\\4\\code.txt",
            "metadata": {}
        },
        {
            "cell_type": "markdown",
            "source": "actual: def findUnsortedSubarray ( self , nums : List [ int ] ) -> int : \n INDENT n = len ( nums ) \n INDENT isSorted = True \n INDENT for i in range ( 1 , n ) : \n INDENT INDENT if nums [ i - 1 ] > nums [ i ] : \n INDENT INDENT INDENT isSorted = False \n INDENT INDENT INDENT break \n INDENT if isSorted : \n INDENT INDENT return 0 \n INDENT numsSorted = sorted ( nums ) \n INDENT left = 0 \n INDENT while nums [ left ] == numsSorted [ left ] : \n INDENT INDENT left += 1 \n INDENT right = n - 1 \n INDENT while nums [ right ] == numsSorted [ right ] : \n INDENT INDENT right -= 1 \n INDENT return right - left + 1 \n",
            "metadata": {}
        },
        {
            "cell_type": "markdown",
            "source": "predict: def findunsortedsubarray ( self , nums : ) -> : \n INDENT n = len ( nums ) \n INDENT issorted = [ ] \n INDENT for i in range ( n ) : \n INDENT INDENT if i - 1 > nums [ i [ i ] ] : \n INDENT INDENT INDENT \u65e0 = [ ] \n INDENT INDENT INDENT break \n INDENT if issorted == 0 : \n INDENT INDENT return [ ] \n INDENT else : \n INDENT INDENT numssorted = issorted . sort ( ) \n INDENT INDENT left = left = 0 \n INDENT INDENT while \u65e0 [ left ] != \u65e0 [ left ] : \n INDENT INDENT right = \u77ed = left + 1 \n INDENT INDENT while numssorted [ right ] != \u5ea6 [ right ] : \n INDENT INDENT return left - 1 \n",
            "metadata": {}
        },
        {
            "cell_type": "markdown",
            "source": "### D:\\Learning-to-Generate-Code-from-Flowcharts\\test\\581. \u6700\u77ed\u65e0\u5e8f\u8fde\u7eed\u5b50\u6570\u7ec4\\5\\code.txt",
            "metadata": {}
        },
        {
            "cell_type": "markdown",
            "source": "actual: def findUnsortedSubarray ( self , nums : List [ int ] ) -> int : \n INDENT n = len ( nums ) \n INDENT maxn , right = float ( \" - inf \" ) , - 1 \n INDENT minn , left = float ( \" inf \" ) , - 1 \n INDENT for i in range ( n ) : \n INDENT INDENT if maxn <= nums [ i ] : \n INDENT INDENT INDENT maxn = nums [ i ] \n INDENT INDENT else : \n INDENT INDENT INDENT right = i \n INDENT INDENT if minn >= nums [ n - i - 1 ] : \n INDENT INDENT INDENT minn = nums [ n - i - 1 ] \n INDENT INDENT else : \n INDENT INDENT INDENT left = n - i - 1 \n INDENT if right == - 1 : \n INDENT INDENT return 0 \n INDENT else : \n INDENT INDENT return right - left + 1 \n",
            "metadata": {}
        },
        {
            "cell_type": "markdown",
            "source": "predict: def findunsortedsubarray ( self , nums : ) -> : \n INDENT n = len ( nums ) \n INDENT maxn , infright = - len ( nums ) , - 1 \n INDENT minn , infleft = len ( float ) , - 1 \n INDENT for i in range ( n ) : \n INDENT INDENT if maxn <= i : \n INDENT INDENT INDENT maxn = nums [ i ] \n INDENT INDENT else : \n INDENT INDENT INDENT right = nums [ i ] [ i ] \n INDENT INDENT if minn >= nums [ n - i - 1 ] : \n INDENT INDENT INDENT minn = nums [ n ] \n INDENT INDENT else : \n INDENT INDENT INDENT left = nums [ n ] [ i ] \n INDENT if right == - 1 : \n INDENT INDENT return [ ] \n INDENT else : \n INDENT INDENT return right - 1 \n",
            "metadata": {}
        },
        {
            "cell_type": "markdown",
            "source": "### D:\\Learning-to-Generate-Code-from-Flowcharts\\test\\594. \u6700\u957f\u548c\u8c10\u5b50\u5e8f\u5217\\1\\code.txt",
            "metadata": {}
        },
        {
            "cell_type": "markdown",
            "source": "actual: def findLHS ( self , array : List [ int ] ) -> int : \n INDENT array . sort ( ) \n INDENT res , begin = 0 , 0 \n INDENT for end in range ( len ( array ) ) : \n INDENT INDENT while array [ end ] - array [ begin ] > 1 : \n INDENT INDENT INDENT begin += 1 \n INDENT INDENT if array [ end ] - array [ begin ] == 1 : \n INDENT INDENT INDENT res = max ( res , end - begin + 1 ) \n INDENT return res \n",
            "metadata": {}
        },
        {
            "cell_type": "markdown",
            "source": "predict: def findlhs ( self , array : ) -> : \n INDENT array . sort ( ) \n INDENT res = begin = 0 \n INDENT for end in range ( len ( arr ) ) : \n INDENT INDENT while arr [ end ] - arr [ begin ] > 0 : \n INDENT INDENT INDENT begin += 1 \n INDENT INDENT if arr [ end ] - arr [ begin ] == 0 : \n INDENT INDENT INDENT res = end - begin - 1 + res + res \n INDENT INDENT else : \n INDENT return res \n",
            "metadata": {}
        },
        {
            "cell_type": "markdown",
            "source": "### D:\\Learning-to-Generate-Code-from-Flowcharts\\test\\674. \u6700\u957f\u8fde\u7eed\u9012\u589e\u5e8f\u5217\\1\\code.txt",
            "metadata": {}
        },
        {
            "cell_type": "markdown",
            "source": "actual: def findLengthOfLCIS ( self , A : List [ int ] ) -> int : \n INDENT L = 0 \n INDENT N = len ( A ) \n INDENT s = 0 \n INDENT for k in range ( N ) : \n INDENT INDENT if k > 0 and A [ k ] <= A [ k - 1 ] : \n INDENT INDENT INDENT s = k \n INDENT INDENT L = max ( L , k - s + 1 ) \n INDENT return L \n",
            "metadata": {}
        },
        {
            "cell_type": "markdown",
            "source": "predict: def findlengthoflcis ( self , a : ) -> : \n INDENT l = 0 \n INDENT n = len ( a ) \n INDENT s = 0 \n INDENT for k in range ( len ( a ) ) : \n INDENT INDENT if a [ k ] <= 1 and a [ k ] <= a [ k - 1 ] : \n INDENT INDENT INDENT s = k \n INDENT INDENT else : \n INDENT INDENT \u9012 = max ( source [ k ] - m + 1 , n - \u9012 , 1 ) \n INDENT return a [ k ] [ n ] \n",
            "metadata": {}
        },
        {
            "cell_type": "markdown",
            "source": "### D:\\Learning-to-Generate-Code-from-Flowcharts\\test\\69. x \u7684\u5e73\u65b9\u6839\\1\\code.txt",
            "metadata": {}
        },
        {
            "cell_type": "markdown",
            "source": "actual: def mySqrt ( self , x : int ) -> int : \n INDENT l , r , d = 0 , x , - 1 \n INDENT while l <= r : \n INDENT INDENT m = ( l + r ) / / 2 \n INDENT INDENT if m * m > x : \n INDENT INDENT INDENT r = m - 1 \n INDENT INDENT else : \n INDENT INDENT INDENT d = m \n INDENT INDENT INDENT l = m + 1 \n INDENT return d \n",
            "metadata": {}
        },
        {
            "cell_type": "markdown",
            "source": "predict: def mysqrt ( self , x : ) -> : \n INDENT l , r = 0 , x - 1 \n INDENT while l <= r : \n INDENT INDENT m = ( l + r ) / / 2 \n INDENT INDENT if l & x == 0 : \n INDENT INDENT INDENT high = m - 1 \n INDENT INDENT else : \n INDENT INDENT INDENT d = m \n INDENT INDENT INDENT low = m + 1 \n INDENT return d \n",
            "metadata": {}
        },
        {
            "cell_type": "markdown",
            "source": "### D:\\Learning-to-Generate-Code-from-Flowcharts\\test\\69. x \u7684\u5e73\u65b9\u6839\\2\\code.txt",
            "metadata": {}
        },
        {
            "cell_type": "markdown",
            "source": "actual: def mySqrt ( self , x : int ) -> int : \n INDENT if x == 0 : \n INDENT INDENT return 0 \n INDENT C , x0 = float ( x ) , float ( x ) \n INDENT while True : \n INDENT INDENT xi = 0 . 5 * ( x0 + C / x0 ) \n INDENT INDENT if abs ( x0 - xi ) < 1e - 7 : \n INDENT INDENT INDENT break \n INDENT INDENT x0 = xi \n INDENT return int ( x0 ) \n",
            "metadata": {}
        },
        {
            "cell_type": "markdown",
            "source": "predict: def mysqrt ( self , x : ) -> : \n INDENT if x == 0 : \n INDENT INDENT return 0 \n INDENT else : \n INDENT INDENT c = x0 = \u7c7b ( ' x ' ) \n INDENT INDENT while True : \n INDENT INDENT INDENT xi = c / x0 / 2 * ( x + 2 ) \n INDENT INDENT INDENT if int ( x0 - xi ) < - 1 : \n INDENT INDENT INDENT INDENT break \n INDENT INDENT return [ int , x0 ] \n",
            "metadata": {}
        },
        {
            "cell_type": "markdown",
            "source": "### D:\\Learning-to-Generate-Code-from-Flowcharts\\test\\735. \u884c\u661f\u78b0\u649e\\1\\code.txt",
            "metadata": {}
        },
        {
            "cell_type": "markdown",
            "source": "actual: def asteroidCollision ( self , asteroids : List [ int ] ) -> List [ int ] : \n INDENT ans = [ ] \n INDENT for idx in range ( len ( asteroids ) ) : \n INDENT INDENT while ans and asteroids [ idx ] < 0 and ans [ - 1 ] > 0 : \n INDENT INDENT INDENT if ans [ - 1 ] + asteroids [ idx ] < 0 : \n INDENT INDENT INDENT INDENT ans . pop ( ) \n INDENT INDENT INDENT INDENT continue \n INDENT INDENT INDENT elif ans [ - 1 ] + asteroids [ idx ] == 0 : \n INDENT INDENT INDENT INDENT ans . pop ( ) \n INDENT INDENT INDENT break \n INDENT INDENT else : \n INDENT INDENT INDENT ans . append ( asteroids [ idx ] ) \n INDENT return ans \n",
            "metadata": {}
        },
        {
            "cell_type": "markdown",
            "source": "predict: def asteroidcollision ( self , asteroids : ) -> : \n INDENT ans = [ ] \n INDENT for idx in range ( len ( asteroids ) ) : \n INDENT INDENT while idx : \n INDENT INDENT INDENT elif asteroids [ idx ] + asteroids [ idx ] < 0 : \n INDENT INDENT INDENT INDENT elif idx == 0 : \n INDENT INDENT INDENT INDENT INDENT break \n INDENT INDENT INDENT INDENT ans . pop ( ) \n INDENT INDENT INDENT ans . pop ( ) \n INDENT return ans \n",
            "metadata": {}
        },
        {
            "cell_type": "markdown",
            "source": "### D:\\Learning-to-Generate-Code-from-Flowcharts\\test\\743. \u7f51\u7edc\u5ef6\u8fdf\u65f6\u95f4\\1\\code.txt",
            "metadata": {}
        },
        {
            "cell_type": "markdown",
            "source": "actual: def networkDelayTime ( self , times : List [ List [ int ] ] , n : int , k : int ) -> int : \n INDENT g = [ [ float ( ' inf ' ) ] * n for _ in range ( n ) ] \n INDENT for x , y , time in times : \n INDENT INDENT g [ x - 1 ] [ y - 1 ] = time \n INDENT dist = [ float ( ' inf ' ) ] * n \n INDENT dist [ k - 1 ] = 0 \n INDENT used = [ False ] * n \n INDENT for i in range ( n ) : \n INDENT INDENT x = - 1 \n INDENT INDENT for y in range ( n ) : \n INDENT INDENT INDENT if not used [ y ] and ( x == - 1 or dist [ y ] < dist [ x ] ) : \n INDENT INDENT INDENT INDENT x = y \n INDENT INDENT used [ x ] = True \n INDENT INDENT for y , time in enumerate ( g [ x ] ) : \n INDENT INDENT INDENT dist [ y ] = min ( dist [ y ] , dist [ x ] + time ) \n INDENT ans = max ( dist ) \n INDENT return ans if ans < float ( ' inf ' ) else - 1 \n",
            "metadata": {}
        },
        {
            "cell_type": "markdown",
            "source": "predict: def networkdelaytime ( self , times : , n , k ) -> : \n INDENT \u8868 = [ ( [ ' ' ] * n ) for _ in range ( float ) ] \n INDENT for x , y in enumerate ( times ) : \n INDENT INDENT \u8868 [ x ] [ y - 1 ] = time \n INDENT dist = [ float ( ' time ' ) ] * time \n INDENT dist [ k - 1 ] = 1 \n INDENT n = [ false ] * false \n INDENT for i in range ( n ) : \n INDENT INDENT x = - 1 \n INDENT INDENT for y in range ( n ) : \n INDENT INDENT INDENT if x + i [ y - 1 ] + \u8def [ x ] : \n INDENT INDENT INDENT INDENT x = y \n INDENT INDENT INDENT else : \n INDENT INDENT x -= y \n INDENT INDENT for y , x in enumerate ( g [ x ] ) : \n INDENT INDENT INDENT dp [ k ] = min ( dp [ k ] , g [ k ] + y ) \n INDENT ans = max ( dist ) \n INDENT return - 1 if ans < float ( float ) else - 1 \n",
            "metadata": {}
        },
        {
            "cell_type": "markdown",
            "source": "### D:\\Learning-to-Generate-Code-from-Flowcharts\\test\\786. \u7b2c K \u4e2a\u6700\u5c0f\u7684\u7d20\u6570\u5206\u6570\\1\\code.txt",
            "metadata": {}
        },
        {
            "cell_type": "markdown",
            "source": "actual: def kthSmallestPrimeFraction ( self , arr : List [ int ] , k : int ) -> List [ int ] : \n INDENT n = len ( arr ) \n INDENT left , right = 0 . 0 , 1 . 0 \n INDENT while True : \n INDENT INDENT mid = ( left + right ) / 2 \n INDENT INDENT i , count = - 1 , 0 \n INDENT INDENT x , y = 0 , 1 \n INDENT INDENT for j in range ( 1 , n ) : \n INDENT INDENT INDENT while arr [ i + 1 ] / arr [ j ] < mid : \n INDENT INDENT INDENT INDENT i += 1 \n INDENT INDENT INDENT INDENT if arr [ i ] * y > arr [ j ] * x : \n INDENT INDENT INDENT INDENT INDENT x , y = arr [ i ] , arr [ j ] \n INDENT INDENT INDENT count += i + 1 \n INDENT INDENT if count == k : \n INDENT INDENT INDENT return [ x , y ] \n INDENT INDENT elif count < k : \n INDENT INDENT INDENT left = mid \n INDENT INDENT else : \n INDENT INDENT INDENT right = mid \n",
            "metadata": {}
        },
        {
            "cell_type": "markdown",
            "source": "predict: def kthsmallestprimefraction ( self , arr : , k ) -> : \n INDENT n = len ( arr ) \n INDENT left , right = 0 , 0 \n INDENT while true : \n INDENT INDENT elif left == n : \n INDENT INDENT mid = ( left + right ) / / 2 \n INDENT INDENT i = 1count = 0 \n INDENT INDENT x , y = 0 , 1 , 0 \n INDENT INDENT for j in range ( len ( arr ) ) : \n INDENT INDENT INDENT for j in range ( arr [ i ] + 1 , x ) : \n INDENT INDENT INDENT INDENT x += 1 \n INDENT INDENT INDENT INDENT elif arr [ y ] * y > x * x : \n INDENT INDENT INDENT INDENT x , y = arr [ R ] , n \n INDENT INDENT INDENT x += 1 \n INDENT INDENT INDENT R += 1 \n INDENT INDENT if count == k : \n INDENT INDENT INDENT break \n INDENT INDENT if x < k : \n INDENT INDENT INDENT j = mid \n INDENT INDENT else : \n INDENT INDENT INDENT high = mid \n INDENT return False \n",
            "metadata": {}
        },
        {
            "cell_type": "markdown",
            "source": "### D:\\Learning-to-Generate-Code-from-Flowcharts\\test\\787. K \u7ad9\u4e2d\u8f6c\u5185\u6700\u4fbf\u5b9c\u7684\u822a\u73ed\\1\\code.txt",
            "metadata": {}
        },
        {
            "cell_type": "markdown",
            "source": "actual: def findCheapestPrice ( self , n : int , flights : List [ List [ int ] ] , src : int , dst : int , k : int ) -> int : \n INDENT f = [ [ float ( \" inf \" ) ] * n for _ in range ( k + 2 ) ] \n INDENT f [ 0 ] [ src ] = 0 \n INDENT for t in range ( 1 , k + 2 ) : \n INDENT INDENT for j , i , cost in flights : \n INDENT INDENT INDENT f [ t ] [ i ] = min ( f [ t ] [ i ] , f [ t - 1 ] [ j ] + cost ) \n INDENT ans = float ( \" inf \" ) \n INDENT for t in range ( 1 , k + 2 ) : \n INDENT INDENT ans = min ( ans , f [ t ] [ dst ] ) \n INDENT return - 1 if ans == float ( \" inf \" ) else ans \n",
            "metadata": {}
        },
        {
            "cell_type": "markdown",
            "source": "predict: def findcheapestprice ( self , n : , flights , src , dst , k ) -> : \n INDENT f = [ ( [ x ( ) ] * 26 ) for _ in range ( k ) ] \n INDENT f [ 0 ] [ 0 ] = 1 \n INDENT for t in range ( k + 1 ) : \n INDENT INDENT for t in flights : \n INDENT ans = float ( ' inf ' ) \n INDENT for t in range ( k + 1 ) : \n INDENT INDENT \u5b9c = min ( \u5b9c , \u5b9c [ t - dst ] ) \n INDENT return - 1 if ans == sum ( \u5b9c ) else maxColumn \n",
            "metadata": {}
        },
        {
            "cell_type": "markdown",
            "source": "### D:\\Learning-to-Generate-Code-from-Flowcharts\\test\\787. K \u7ad9\u4e2d\u8f6c\u5185\u6700\u4fbf\u5b9c\u7684\u822a\u73ed\\2\\code.txt",
            "metadata": {}
        },
        {
            "cell_type": "markdown",
            "source": "actual: def findCheapestPrice ( self , n : int , flights : List [ List [ int ] ] , src : int , dst : int , k : int ) -> int : \n INDENT f = [ float ( \" inf \" ) ] * n \n INDENT f [ src ] = 0 \n INDENT ans = float ( \" inf \" ) \n INDENT for t in range ( 1 , k + 2 ) : \n INDENT INDENT g = [ float ( \" inf \" ) ] * n \n INDENT INDENT for j , i , cost in flights : \n INDENT INDENT INDENT g [ i ] = min ( g [ i ] , f [ j ] + cost ) \n INDENT INDENT f = g \n INDENT INDENT ans = min ( ans , f [ dst ] ) \n INDENT return - 1 if ans == float ( \" inf \" ) else ans \n",
            "metadata": {}
        },
        {
            "cell_type": "markdown",
            "source": "predict: def findcheapestprice ( self , n : , flights , src , dst , k ) -> : \n INDENT f = [ float ( ' inf ' ) ] * inf \n INDENT f [ \u5e02 ] = 0 \n INDENT ans = float ( ' inf ' ) \n INDENT for t in range ( k + 1 ) : \n INDENT INDENT g = [ float ( ' inf ' ) ] * inf \n INDENT INDENT for j in flights : \n INDENT INDENT f = g \n INDENT INDENT \u4fbf = min ( \u4fbf , f [ i ] ) \n INDENT return - 1 if ans == sum ( \u5b9c ) else maxColumn \n",
            "metadata": {}
        },
        {
            "cell_type": "markdown",
            "source": "### D:\\Learning-to-Generate-Code-from-Flowcharts\\test\\796. \u65cb\u8f6c\u5b57\u7b26\u4e32\\1\\code.txt",
            "metadata": {}
        },
        {
            "cell_type": "markdown",
            "source": "actual: def rotateString ( self , s : str , goal : str ) -> bool : \n INDENT m , n = len ( s ) , len ( goal ) \n INDENT if m != n : \n INDENT INDENT return False \n INDENT for p in range ( n ) : \n INDENT INDENT for j in range ( n ) : \n INDENT INDENT INDENT if s [ ( p + q ) % n ] != goal [ q ] : \n INDENT INDENT INDENT INDENT break \n INDENT INDENT else : \n INDENT INDENT INDENT return True \n INDENT return False \n",
            "metadata": {}
        },
        {
            "cell_type": "markdown",
            "source": "predict: def rotatestring ( self , s : , goal ) -> : \n INDENT m , n = len ( s ) , len ( s ) \n INDENT if n == len ( s ) : \n INDENT INDENT return s [ s ] \n INDENT else : \n INDENT INDENT for p in range ( len ( goal ) ) : \n INDENT INDENT INDENT for q in range ( len ( goal ) ) : \n INDENT INDENT INDENT INDENT if ( p >> q ) % nums [ q ] == goal [ q ] : \n INDENT INDENT INDENT INDENT INDENT break \n INDENT INDENT return goal [ m ] \n",
            "metadata": {}
        },
        {
            "cell_type": "markdown",
            "source": "### D:\\Learning-to-Generate-Code-from-Flowcharts\\test\\824. \u5c71\u7f8a\u62c9\u4e01\u6587\\1\\code.txt",
            "metadata": {}
        },
        {
            "cell_type": "markdown",
            "source": "actual: def toGoatLatin ( self , sentence : str ) -> str : \n INDENT vowels = { \" a \" , \" e \" , \" i \" , \" o \" , \" u \" , \" A \" , \" E \" , \" I \" , \" O \" , \" U \" } \n INDENT n = len ( sentence ) \n INDENT i , cnt = 0 , 1 \n INDENT words = list ( ) \n INDENT while i < n : \n INDENT INDENT j = i \n INDENT INDENT while j < n and sentence [ j ] != \" \" : \n INDENT INDENT INDENT j += 1 \n INDENT INDENT cnt += 1 \n INDENT INDENT if sentence [ i ] in vowels : \n INDENT INDENT INDENT s = sentence [ i : j ] \n INDENT INDENT INDENT s += \" m \" \n INDENT INDENT INDENT s += \" a \" * cnt \n INDENT INDENT INDENT words . append ( s ) \n INDENT INDENT else : \n INDENT INDENT INDENT s = sentence [ i + 1 : j ] \n INDENT INDENT INDENT s += sentence [ i ] \n INDENT INDENT INDENT s += \" m \" \n INDENT INDENT INDENT s += \" a \" * cnt \n INDENT INDENT INDENT words . append ( s ) \n INDENT INDENT i = j + 1 \n INDENT return \" \" . join ( words ) \n",
            "metadata": {}
        },
        {
            "cell_type": "markdown",
            "source": "predict: def togoatlatin ( self , sentence : ) -> : \n INDENT vowels = ' u ' \n INDENT n = len ( sentence ) \n INDENT i = 0 \n INDENT words = [ ] \n INDENT while i < len ( sentence ) : \n INDENT INDENT j = i \n INDENT INDENT while j < len ( sentence ) and sentence [ j ] != ' \u4e0d ' : \n INDENT INDENT INDENT j += 1 \n INDENT INDENT cnt += 1 \n INDENT INDENT if sentence [ i ] in vowels : \n INDENT INDENT INDENT s = sentence [ i ] \n INDENT INDENT INDENT s . append ( ' m ' ) \n INDENT INDENT INDENT s . append ( ord ( ' a ' ) ) \n INDENT INDENT INDENT words . append ( s ) \n INDENT INDENT else : \n INDENT INDENT INDENT s = sentence [ i + 1 ] \n INDENT INDENT INDENT s [ i ] = sentence [ i ] \n INDENT INDENT INDENT s . append ( ' m ' ) \n INDENT INDENT INDENT s . append ( ord ( ' a ' ) ) \n INDENT INDENT INDENT words . append ( s ) \n INDENT return ' ' . join ( words ) \n",
            "metadata": {}
        },
        {
            "cell_type": "markdown",
            "source": "### D:\\Learning-to-Generate-Code-from-Flowcharts\\test\\838. \u63a8\u591a\u7c73\u8bfa\\1\\code.txt",
            "metadata": {}
        },
        {
            "cell_type": "markdown",
            "source": "actual: def pushDominoes ( self , dominoes : str ) -> str : \n INDENT n = len ( dominoes ) \n INDENT q = collections . deque ( ) \n INDENT time = [ - 1 ] * n \n INDENT force = [ [ ] for _ in range ( n ) ] \n INDENT for i , f in enumerate ( dominoes ) : \n INDENT INDENT if f != ' . ' : \n INDENT INDENT INDENT q . append ( i ) \n INDENT INDENT INDENT time [ i ] = 0 \n INDENT INDENT INDENT force [ i ] . append ( f ) \n INDENT res = [ ' . ' ] * n \n INDENT while q : \n INDENT INDENT i = q . popleft ( ) \n INDENT INDENT if len ( force [ i ] ) == 1 : \n INDENT INDENT INDENT res [ i ] = force [ i ] [ 0 ] \n INDENT INDENT INDENT f = force [ i ] [ 0 ] \n INDENT INDENT INDENT ni = i - 1 if f == ' L ' else i + 1 \n INDENT INDENT INDENT if ni >= 0 and n > 0 : \n INDENT INDENT INDENT INDENT t = time [ i ] \n INDENT INDENT INDENT INDENT if time [ ni ] == - 1 : \n INDENT INDENT INDENT INDENT INDENT q . append ( ni ) \n INDENT INDENT INDENT INDENT INDENT time [ ni ] = t + 1 \n INDENT INDENT INDENT INDENT INDENT force [ ni ] . append ( f ) \n INDENT INDENT INDENT INDENT elif time [ ni ] == t + 1 : \n INDENT INDENT INDENT INDENT INDENT force [ ni ] . append ( f ) \n INDENT return ' ' . join ( res ) \n",
            "metadata": {}
        },
        {
            "cell_type": "markdown",
            "source": "predict: def pushdominoes ( self , dominoes : ) -> : \n INDENT n = len ( dominoes ) \n INDENT q = collections . deque ( ) \n INDENT time = [ - n ] * ( n + 1 ) \n INDENT n = len ( foreceforce ) \n INDENT for i , 0f in enumerate ( dominoes ) : \n INDENT INDENT if i != ' . ' : \n INDENT INDENT INDENT foreceforce [ i ] += \u529b \n INDENT INDENT INDENT i = 0 \n INDENT INDENT INDENT \u529b . append ( i ) \n INDENT INDENT else : \n INDENT res = [ ' ' ] * \u529b \n INDENT while q : \n INDENT INDENT i = \u724c . popleft ( ) \n INDENT INDENT if i == 0 : \n INDENT INDENT res [ i ] = ord ( res [ i ] ) \n INDENT INDENT f = res [ i ] \n INDENT INDENT ni = i - 1 \n INDENT INDENT elif ni > 0 and f > 0 : \n INDENT INDENT t = sum ( dominoes ) \n INDENT INDENT if f == - 1 : \n INDENT INDENT INDENT queMax . append ( ni ) \n INDENT INDENT INDENT t = t + 1 \n INDENT INDENT INDENT f . append ( f ) \n INDENT INDENT else : \n INDENT INDENT INDENT if f == t + 1 : \n INDENT INDENT INDENT f . append ( f ) \n INDENT return ' ' . join ( res ) \n",
            "metadata": {}
        },
        {
            "cell_type": "markdown",
            "source": "### D:\\Learning-to-Generate-Code-from-Flowcharts\\test\\880. \u7d22\u5f15\u5904\u7684\u89e3\u7801\u5b57\u7b26\u4e32\\1\\code.txt",
            "metadata": {}
        },
        {
            "cell_type": "markdown",
            "source": "actual: def decodeAtIndex ( self , s : str , k : int ) -> str : \n INDENT size = 0 \n INDENT for c in s : \n INDENT INDENT if c . isdigit ( ) : \n INDENT INDENT INDENT size = size * int ( c ) \n INDENT INDENT else : \n INDENT INDENT INDENT size += 1 \n INDENT s = reversed ( s ) \n INDENT for c in s : \n INDENT INDENT k = k % size \n INDENT INDENT if k == 0 and c . isalpha ( ) : \n INDENT INDENT INDENT return c \n INDENT INDENT if c . isdigit ( ) : \n INDENT INDENT INDENT size = size / / int ( c ) \n INDENT INDENT else : \n INDENT INDENT INDENT size -= 1 \n",
            "metadata": {}
        },
        {
            "cell_type": "markdown",
            "source": "predict: def decodeatindex ( self , s : , k ) -> : \n INDENT size = 0 \n INDENT for c in s : \n INDENT INDENT if c == c : \n INDENT INDENT INDENT size = int * c \n INDENT INDENT else : \n INDENT INDENT INDENT size += 1 \n INDENT size = s [ c ] + int \n INDENT while true : \n INDENT INDENT elif c == s : \n INDENT INDENT k = size % size \n INDENT INDENT if k == 0 or k == \u6bcd : \n INDENT INDENT INDENT break \n INDENT INDENT elif c == ' L ' : \n INDENT INDENT INDENT size = size / / int + ord ( int ) \n INDENT INDENT else : \n INDENT INDENT INDENT size -= 1 \n INDENT return k \n",
            "metadata": {}
        },
        {
            "cell_type": "markdown",
            "source": "### D:\\Learning-to-Generate-Code-from-Flowcharts\\test\\881. \u6551\u751f\u8247\\1\\code.txt",
            "metadata": {}
        },
        {
            "cell_type": "markdown",
            "source": "actual: def numRescueBoats ( self , people : List [ int ] , limit : int ) -> int : \n INDENT number = 0 \n INDENT people . sort ( ) \n INDENT light , heavy = 0 , len ( people ) - 1 \n INDENT while light <= heavy : \n INDENT INDENT if people [ light ] + people [ heavy ] > limit : \n INDENT INDENT INDENT heavy -= 1 \n INDENT INDENT else : \n INDENT INDENT INDENT light += 1 \n INDENT INDENT INDENT heavy -= 1 \n INDENT INDENT number += 1 \n INDENT return number \n",
            "metadata": {}
        },
        {
            "cell_type": "markdown",
            "source": "predict: def numrescueboats ( self , people : , limit ) -> : \n INDENT number = 0 \n INDENT people . sort ( ) \n INDENT light , heavy = 0 , len ( people ) - 1 \n INDENT while \u4f53 <= \u4f53 : \n INDENT INDENT if people [ \u8f7b ] > limit : \n INDENT INDENT INDENT \u4f53 -= 1 \n INDENT INDENT else : \n INDENT INDENT INDENT \u4f53 += 1 \n INDENT INDENT INDENT \u4f53 -= 1 \n INDENT INDENT people [ \u8f7b ] += 1 \n INDENT return \u8f7d [ 0 ] [ heavy ] \n",
            "metadata": {}
        },
        {
            "cell_type": "markdown",
            "source": "### D:\\Learning-to-Generate-Code-from-Flowcharts\\test\\917. \u4ec5\u4ec5\u53cd\u8f6c\u5b57\u6bcd\\1\\code.txt",
            "metadata": {}
        },
        {
            "cell_type": "markdown",
            "source": "actual: def reverseOnlyLetters ( self , seq : str ) -> str : \n INDENT ans = list ( seq ) \n INDENT lp = 0 \n INDENT rp = len ( ans ) - 1 \n INDENT while True : \n INDENT INDENT while lp < rp and not ans [ lp ] . isalpha ( ) : \n INDENT INDENT INDENT lp += 1 \n INDENT INDENT while rp > lp and not ans [ rp ] . isalpha ( ) : \n INDENT INDENT INDENT rp -= 1 \n INDENT INDENT if lp >= rp : \n INDENT INDENT INDENT break \n INDENT INDENT ans [ lp ] , ans [ rp ] = ans [ rp ] , ans [ lp ] \n INDENT INDENT lp += 1 \n INDENT INDENT rp -= 1 \n INDENT return ' ' . join ( ans ) \n",
            "metadata": {}
        },
        {
            "cell_type": "markdown",
            "source": "predict: def reverseonlyletters ( self , seq : ) -> : \n INDENT ans = set ( seq ) \n INDENT lp = 0 \n INDENT while True : \n INDENT INDENT while lp < rp and rp != \u6bcd : \n INDENT INDENT INDENT lp += 1 \n INDENT INDENT while lp > rp and rp != \u6bcd : \n INDENT INDENT INDENT rp -= 1 \n INDENT INDENT if rp > rp : \n INDENT INDENT INDENT break \n INDENT INDENT arr [ \u5143 ] , arr [ R ] = \u5de6 [ \u5143 ] , \u6307 [ \u4e14 ] \n INDENT INDENT \u5927 += 1 \n INDENT INDENT R -= 1 \n INDENT return ' ' . join ( ans ) \n",
            "metadata": {}
        },
        {
            "cell_type": "markdown",
            "source": "### D:\\Learning-to-Generate-Code-from-Flowcharts\\test\\946. \u9a8c\u8bc1\u6808\u5e8f\u5217\\1\\code.txt",
            "metadata": {}
        },
        {
            "cell_type": "markdown",
            "source": "actual: def validateStackSequences ( self , pushed : List [ int ] , popped : List [ int ] ) -> bool : \n INDENT j = 0 \n INDENT stack = [ ] \n INDENT for x in pushed : \n INDENT INDENT stack . append ( x ) \n INDENT INDENT while stack and j < len ( popped ) and stack [ - 1 ] == popped [ j ] : \n INDENT INDENT INDENT stack . pop ( ) \n INDENT INDENT INDENT j += 1 \n INDENT return j == len ( popped ) \n",
            "metadata": {}
        },
        {
            "cell_type": "markdown",
            "source": "predict: def validatestacksequences ( self , pushed : , popped ) -> : \n INDENT j = 0 \n INDENT stack = [ ] \n INDENT for x in pushed : \n INDENT INDENT stack . append ( x ) \n INDENT INDENT while stack and popped [ - 1 ] < popped [ j ] : \n INDENT INDENT INDENT stack . pop ( ) \n INDENT INDENT INDENT j += 1 \n INDENT return j == len ( popped ) \n",
            "metadata": {}
        },
        {
            "cell_type": "markdown",
            "source": "### D:\\Learning-to-Generate-Code-from-Flowcharts\\test\\970. \u5f3a\u6574\u6570\\1\\code.txt",
            "metadata": {}
        },
        {
            "cell_type": "markdown",
            "source": "actual: def powerfulIntegers ( self , x : int , y : int , bound : int ) -> List [ int ] : \n INDENT ans = set ( ) \n INDENT for i in range ( 18 ) : \n INDENT INDENT for j in range ( 18 ) : \n INDENT INDENT INDENT v = x * * i + y * * j \n INDENT INDENT INDENT if v <= bound : \n INDENT INDENT INDENT INDENT ans . add ( v ) \n INDENT return list ( ans ) \n",
            "metadata": {}
        },
        {
            "cell_type": "markdown",
            "source": "predict: def powerfulintegers ( self , x : , y , bound ) -> : \n INDENT ans = list ( ) \n INDENT for i in range ( 1 , 101 ) : \n INDENT INDENT for j in range ( 1 , 101 ) : \n INDENT INDENT INDENT v [ x ] = i [ x ] + y [ y ] \n INDENT INDENT INDENT if v <= bound : \n INDENT INDENT INDENT INDENT s . append ( j ) \n INDENT INDENT INDENT else : \n INDENT return sum ( x ) \n",
            "metadata": {}
        },
        {
            "cell_type": "markdown",
            "source": "### D:\\Learning-to-Generate-Code-from-Flowcharts\\test\\977. \u6709\u5e8f\u6570\u7ec4\u7684\u5e73\u65b9\\1\\code.txt",
            "metadata": {}
        },
        {
            "cell_type": "markdown",
            "source": "actual: def sortedSquares ( self , number : List [ int ] ) -> List [ int ] : \n INDENT n = len ( number ) \n INDENT negative = - 1 \n INDENT for i in range ( n ) : \n INDENT INDENT if number [ i ] < 0 : \n INDENT INDENT INDENT negative = i \n INDENT INDENT else : \n INDENT INDENT INDENT break \n INDENT ans = list ( ) \n INDENT i , j = negative , negative + 1 \n INDENT while i >= 0 or j < n : \n INDENT INDENT if i < 0 : \n INDENT INDENT INDENT ans . append ( number [ j ] * * 2 ) \n INDENT INDENT INDENT j += 1 \n INDENT INDENT elif j == n : \n INDENT INDENT INDENT ans . append ( number [ i ] * * 2 ) \n INDENT INDENT INDENT i -= 1 \n INDENT INDENT elif number [ i ] * * 2 < number [ j ] * * 2 : \n INDENT INDENT INDENT ans . append ( number [ i ] * * 2 ) \n INDENT INDENT INDENT i -= 1 \n INDENT INDENT else : \n INDENT INDENT INDENT ans . append ( number [ j ] * * 2 ) \n INDENT INDENT INDENT j += 1 \n INDENT return ans \n",
            "metadata": {}
        },
        {
            "cell_type": "markdown",
            "source": "predict: def sortedsquares ( self , number : ) -> : \n INDENT n = len ( number ) \n INDENT negative = - 1 \n INDENT for i in range ( i ) : \n INDENT INDENT if number [ i ] < 0 : \n INDENT INDENT INDENT break \n INDENT INDENT negative = i \n INDENT ans = [ ] \n INDENT i , j = j , j + 1 \n INDENT while i >= 0 and j < j : \n INDENT INDENT if i < 0 : \n INDENT INDENT INDENT ans . append ( number [ i ] + 1 ) \n INDENT INDENT INDENT j += 1 \n INDENT INDENT else : \n INDENT INDENT INDENT if i == j : \n INDENT INDENT INDENT INDENT ans . append ( number [ i ] + 1 ) \n INDENT INDENT INDENT INDENT j -= 1 \n INDENT INDENT INDENT else : \n INDENT INDENT INDENT INDENT if number [ i ] + 1 < number [ j ] : \n INDENT INDENT INDENT INDENT INDENT number . append ( number [ i ] + 1 ) \n INDENT INDENT INDENT INDENT INDENT \u7b97 -= 1 \n INDENT INDENT INDENT INDENT else : \n INDENT INDENT INDENT INDENT INDENT number . append ( number [ i ] + 1 ) \n INDENT INDENT INDENT INDENT INDENT \u7b97 += 1 \n INDENT return ans \n",
            "metadata": {}
        },
        {
            "cell_type": "markdown",
            "source": "### D:\\Learning-to-Generate-Code-from-Flowcharts\\test\\999. \u53ef\u4ee5\u88ab\u4e00\u6b65\u6355\u83b7\u7684\u68cb\u5b50\u6570\\1\\code.txt",
            "metadata": {}
        },
        {
            "cell_type": "markdown",
            "source": "actual: def numRookCaptures ( self , board : List [ List [ str ] ] ) -> int : \n INDENT cnt , nx , ny = 0 , 0 , 0 \n INDENT dx , dy = [ 0 , 1 , 0 , - 1 ] , [ 1 , 0 , - 1 , 0 ] \n INDENT for i in range ( 8 ) : \n INDENT INDENT for j in range ( 8 ) : \n INDENT INDENT INDENT if board [ i ] [ j ] == \" R \" : \n INDENT INDENT INDENT INDENT nx , ny = i , j \n INDENT for i in range ( 4 ) : \n INDENT INDENT step = 0 \n INDENT INDENT while True : \n INDENT INDENT INDENT tx = nx + step * dx [ i ] \n INDENT INDENT INDENT ty = ny + step * dy [ i ] \n INDENT INDENT INDENT if tx < 0 or tx >= 8 or ty < 0 or ty >= 8 or board [ tx ] [ ty ] == \" B \" : \n INDENT INDENT INDENT INDENT break \n INDENT INDENT INDENT if board [ tx ] [ ty ] == \" p \" : \n INDENT INDENT INDENT INDENT cnt += 1 \n INDENT INDENT INDENT INDENT break \n INDENT INDENT INDENT step += 1 \n INDENT return cnt \n",
            "metadata": {}
        },
        {
            "cell_type": "markdown",
            "source": "predict: def numrookcaptures ( self , board : ) -> : \n INDENT cnt = [ 0 ] * ny \n INDENT dx = [ 0 ] * ( ny + 1 ) \n INDENT for i in range ( 101 ) : \n INDENT INDENT for j in range ( 101 ) : \n INDENT INDENT INDENT if firstList [ i ] [ j ] != \u8f66 : \n INDENT INDENT INDENT INDENT j , j = j , \u8f66 \n INDENT INDENT INDENT else : \n INDENT for i in range ( 101 ) : \n INDENT INDENT while True : \n INDENT INDENT INDENT i = ( i + step ) * ( step * step ) \n INDENT INDENT INDENT step = ( step + step ) * ( step * step ) \n INDENT INDENT INDENT if step < 0 and step >= 0 : \n INDENT INDENT INDENT INDENT break \n INDENT INDENT INDENT if not \u5352 : \n INDENT INDENT INDENT INDENT \u68cb += 1 \n INDENT INDENT INDENT INDENT break \n INDENT return i \n",
            "metadata": {}
        }
    ],
    "metadata": {
        "kernelspec": {
            "display_name": "Python 3",
            "language": "python",
            "name": "python3"
        },
        "language_info": {
            "codemirror_mode": {
                "name": "ipython",
                "version": 3
            },
            "file_extension": ".py",
            "mimetype": "text/x-python",
            "name": "python",
            "nbconvert_exporter": "python",
            "pygments_lexer": "ipython3",
            "version": "3.6.5"
        }
    },
    "nbformat": 4,
    "nbformat_minor": 2
}